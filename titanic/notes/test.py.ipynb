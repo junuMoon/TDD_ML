{
 "cells": [
  {
   "cell_type": "code",
   "execution_count": 282,
   "metadata": {
    "collapsed": false,
    "jupyter": {
     "outputs_hidden": false
    },
    "pycharm": {
     "name": "#%%\n"
    }
   },
   "outputs": [],
   "source": [
    "from pathlib import Path\n",
    "import os\n",
    "\n",
    "path = Path('.').absolute() \n",
    "os.chdir(path)\n",
    "data_dir = path / 'data'\n",
    "\n",
    "import numpy as np\n",
    "import pandas as pd\n",
    "import matplotlib.pyplot as plt\n",
    "import seaborn as sns"
   ]
  },
  {
   "cell_type": "code",
   "execution_count": 11,
   "metadata": {
    "collapsed": false,
    "jupyter": {
     "outputs_hidden": false
    },
    "pycharm": {
     "name": "#%%\n"
    }
   },
   "outputs": [],
   "source": [
    "df_train = pd.read_csv(data_dir / 'train.csv')\n",
    "df_test  = pd.read_csv(data_dir / 'test.csv')"
   ]
  },
  {
   "cell_type": "code",
   "execution_count": 13,
   "metadata": {
    "collapsed": false,
    "jupyter": {
     "outputs_hidden": false
    },
    "pycharm": {
     "name": "#%%\n"
    }
   },
   "outputs": [
    {
     "data": {
      "text/html": [
       "<style type=\"text/css\">\n",
       "#T_17e56_row0_col0, #T_17e56_row1_col1, #T_17e56_row1_col2 {\n",
       "  background-color: #ffffd9;\n",
       "  color: #000000;\n",
       "}\n",
       "#T_17e56_row0_col1 {\n",
       "  background-color: #d9f0b3;\n",
       "  color: #000000;\n",
       "}\n",
       "#T_17e56_row0_col2 {\n",
       "  background-color: #f9fdcb;\n",
       "  color: #000000;\n",
       "}\n",
       "#T_17e56_row1_col0 {\n",
       "  background-color: #fafdce;\n",
       "  color: #000000;\n",
       "}\n",
       "#T_17e56_row2_col0 {\n",
       "  background-color: #1d91c0;\n",
       "  color: #f1f1f1;\n",
       "}\n",
       "#T_17e56_row2_col1 {\n",
       "  background-color: #edf8b1;\n",
       "  color: #000000;\n",
       "}\n",
       "#T_17e56_row2_col2 {\n",
       "  background-color: #61c2bf;\n",
       "  color: #000000;\n",
       "}\n",
       "#T_17e56_row3_col0, #T_17e56_row3_col1, #T_17e56_row3_col2 {\n",
       "  background-color: #081d58;\n",
       "  color: #f1f1f1;\n",
       "}\n",
       "</style>\n",
       "<table id=\"T_17e56_\">\n",
       "  <thead>\n",
       "    <tr>\n",
       "      <th class=\"index_name level0\" >Survived</th>\n",
       "      <th class=\"col_heading level0 col0\" >0</th>\n",
       "      <th class=\"col_heading level0 col1\" >1</th>\n",
       "      <th class=\"col_heading level0 col2\" >All</th>\n",
       "    </tr>\n",
       "    <tr>\n",
       "      <th class=\"index_name level0\" >Pclass</th>\n",
       "      <th class=\"blank col0\" >&nbsp;</th>\n",
       "      <th class=\"blank col1\" >&nbsp;</th>\n",
       "      <th class=\"blank col2\" >&nbsp;</th>\n",
       "    </tr>\n",
       "  </thead>\n",
       "  <tbody>\n",
       "    <tr>\n",
       "      <th id=\"T_17e56_level0_row0\" class=\"row_heading level0 row0\" >1</th>\n",
       "      <td id=\"T_17e56_row0_col0\" class=\"data row0 col0\" >80</td>\n",
       "      <td id=\"T_17e56_row0_col1\" class=\"data row0 col1\" >136</td>\n",
       "      <td id=\"T_17e56_row0_col2\" class=\"data row0 col2\" >216</td>\n",
       "    </tr>\n",
       "    <tr>\n",
       "      <th id=\"T_17e56_level0_row1\" class=\"row_heading level0 row1\" >2</th>\n",
       "      <td id=\"T_17e56_row1_col0\" class=\"data row1 col0\" >97</td>\n",
       "      <td id=\"T_17e56_row1_col1\" class=\"data row1 col1\" >87</td>\n",
       "      <td id=\"T_17e56_row1_col2\" class=\"data row1 col2\" >184</td>\n",
       "    </tr>\n",
       "    <tr>\n",
       "      <th id=\"T_17e56_level0_row2\" class=\"row_heading level0 row2\" >3</th>\n",
       "      <td id=\"T_17e56_row2_col0\" class=\"data row2 col0\" >372</td>\n",
       "      <td id=\"T_17e56_row2_col1\" class=\"data row2 col1\" >119</td>\n",
       "      <td id=\"T_17e56_row2_col2\" class=\"data row2 col2\" >491</td>\n",
       "    </tr>\n",
       "    <tr>\n",
       "      <th id=\"T_17e56_level0_row3\" class=\"row_heading level0 row3\" >All</th>\n",
       "      <td id=\"T_17e56_row3_col0\" class=\"data row3 col0\" >549</td>\n",
       "      <td id=\"T_17e56_row3_col1\" class=\"data row3 col1\" >342</td>\n",
       "      <td id=\"T_17e56_row3_col2\" class=\"data row3 col2\" >891</td>\n",
       "    </tr>\n",
       "  </tbody>\n",
       "</table>\n"
      ],
      "text/plain": [
       "<pandas.io.formats.style.Styler at 0x140397250>"
      ]
     },
     "execution_count": 13,
     "metadata": {},
     "output_type": "execute_result"
    }
   ],
   "source": [
    "pd.crosstab(df_train['Pclass'], df_train['Survived'], margins=True).style.background_gradient(cmap='YlGnBu')"
   ]
  },
  {
   "cell_type": "code",
   "execution_count": 17,
   "metadata": {
    "collapsed": false,
    "jupyter": {
     "outputs_hidden": false
    },
    "pycharm": {
     "name": "#%%\n"
    }
   },
   "outputs": [
    {
     "data": {
      "text/html": [
       "<style type=\"text/css\">\n",
       "#T_e9bc1_row0_col0, #T_e9bc1_row0_col1, #T_e9bc1_row0_col3, #T_e9bc1_row3_col2 {\n",
       "  background-color: #ffffd9;\n",
       "  color: #000000;\n",
       "}\n",
       "#T_e9bc1_row0_col2, #T_e9bc1_row1_col2 {\n",
       "  background-color: #f7fcc7;\n",
       "  color: #000000;\n",
       "}\n",
       "#T_e9bc1_row1_col0 {\n",
       "  background-color: #6dc6be;\n",
       "  color: #000000;\n",
       "}\n",
       "#T_e9bc1_row1_col1 {\n",
       "  background-color: #87d0ba;\n",
       "  color: #000000;\n",
       "}\n",
       "#T_e9bc1_row1_col3 {\n",
       "  background-color: #daf0b3;\n",
       "  color: #000000;\n",
       "}\n",
       "#T_e9bc1_row2_col0 {\n",
       "  background-color: #90d4b9;\n",
       "  color: #000000;\n",
       "}\n",
       "#T_e9bc1_row2_col1, #T_e9bc1_row2_col3 {\n",
       "  background-color: #4cbac2;\n",
       "  color: #f1f1f1;\n",
       "}\n",
       "#T_e9bc1_row2_col2 {\n",
       "  background-color: #2da2c2;\n",
       "  color: #f1f1f1;\n",
       "}\n",
       "#T_e9bc1_row3_col0 {\n",
       "  background-color: #d7efb3;\n",
       "  color: #000000;\n",
       "}\n",
       "#T_e9bc1_row3_col1 {\n",
       "  background-color: #f7fcc6;\n",
       "  color: #000000;\n",
       "}\n",
       "#T_e9bc1_row3_col3 {\n",
       "  background-color: #fafdcf;\n",
       "  color: #000000;\n",
       "}\n",
       "#T_e9bc1_row4_col0, #T_e9bc1_row4_col1, #T_e9bc1_row4_col2, #T_e9bc1_row4_col3 {\n",
       "  background-color: #081d58;\n",
       "  color: #f1f1f1;\n",
       "}\n",
       "</style>\n",
       "<table id=\"T_e9bc1_\">\n",
       "  <thead>\n",
       "    <tr>\n",
       "      <th class=\"blank\" >&nbsp;</th>\n",
       "      <th class=\"index_name level0\" >Pclass</th>\n",
       "      <th class=\"col_heading level0 col0\" >1</th>\n",
       "      <th class=\"col_heading level0 col1\" >2</th>\n",
       "      <th class=\"col_heading level0 col2\" >3</th>\n",
       "      <th class=\"col_heading level0 col3\" >All</th>\n",
       "    </tr>\n",
       "    <tr>\n",
       "      <th class=\"index_name level0\" >Sex</th>\n",
       "      <th class=\"index_name level1\" >Survived</th>\n",
       "      <th class=\"blank col0\" >&nbsp;</th>\n",
       "      <th class=\"blank col1\" >&nbsp;</th>\n",
       "      <th class=\"blank col2\" >&nbsp;</th>\n",
       "      <th class=\"blank col3\" >&nbsp;</th>\n",
       "    </tr>\n",
       "  </thead>\n",
       "  <tbody>\n",
       "    <tr>\n",
       "      <th id=\"T_e9bc1_level0_row0\" class=\"row_heading level0 row0\" rowspan=\"2\">female</th>\n",
       "      <th id=\"T_e9bc1_level1_row0\" class=\"row_heading level1 row0\" >0</th>\n",
       "      <td id=\"T_e9bc1_row0_col0\" class=\"data row0 col0\" >3</td>\n",
       "      <td id=\"T_e9bc1_row0_col1\" class=\"data row0 col1\" >6</td>\n",
       "      <td id=\"T_e9bc1_row0_col2\" class=\"data row0 col2\" >72</td>\n",
       "      <td id=\"T_e9bc1_row0_col3\" class=\"data row0 col3\" >81</td>\n",
       "    </tr>\n",
       "    <tr>\n",
       "      <th id=\"T_e9bc1_level1_row1\" class=\"row_heading level1 row1\" >1</th>\n",
       "      <td id=\"T_e9bc1_row1_col0\" class=\"data row1 col0\" >91</td>\n",
       "      <td id=\"T_e9bc1_row1_col1\" class=\"data row1 col1\" >70</td>\n",
       "      <td id=\"T_e9bc1_row1_col2\" class=\"data row1 col2\" >72</td>\n",
       "      <td id=\"T_e9bc1_row1_col3\" class=\"data row1 col3\" >233</td>\n",
       "    </tr>\n",
       "    <tr>\n",
       "      <th id=\"T_e9bc1_level0_row2\" class=\"row_heading level0 row2\" rowspan=\"2\">male</th>\n",
       "      <th id=\"T_e9bc1_level1_row2\" class=\"row_heading level1 row2\" >0</th>\n",
       "      <td id=\"T_e9bc1_row2_col0\" class=\"data row2 col0\" >77</td>\n",
       "      <td id=\"T_e9bc1_row2_col1\" class=\"data row2 col1\" >91</td>\n",
       "      <td id=\"T_e9bc1_row2_col2\" class=\"data row2 col2\" >300</td>\n",
       "      <td id=\"T_e9bc1_row2_col3\" class=\"data row2 col3\" >468</td>\n",
       "    </tr>\n",
       "    <tr>\n",
       "      <th id=\"T_e9bc1_level1_row3\" class=\"row_heading level1 row3\" >1</th>\n",
       "      <td id=\"T_e9bc1_row3_col0\" class=\"data row3 col0\" >45</td>\n",
       "      <td id=\"T_e9bc1_row3_col1\" class=\"data row3 col1\" >17</td>\n",
       "      <td id=\"T_e9bc1_row3_col2\" class=\"data row3 col2\" >47</td>\n",
       "      <td id=\"T_e9bc1_row3_col3\" class=\"data row3 col3\" >109</td>\n",
       "    </tr>\n",
       "    <tr>\n",
       "      <th id=\"T_e9bc1_level0_row4\" class=\"row_heading level0 row4\" >All</th>\n",
       "      <th id=\"T_e9bc1_level1_row4\" class=\"row_heading level1 row4\" ></th>\n",
       "      <td id=\"T_e9bc1_row4_col0\" class=\"data row4 col0\" >216</td>\n",
       "      <td id=\"T_e9bc1_row4_col1\" class=\"data row4 col1\" >184</td>\n",
       "      <td id=\"T_e9bc1_row4_col2\" class=\"data row4 col2\" >491</td>\n",
       "      <td id=\"T_e9bc1_row4_col3\" class=\"data row4 col3\" >891</td>\n",
       "    </tr>\n",
       "  </tbody>\n",
       "</table>\n"
      ],
      "text/plain": [
       "<pandas.io.formats.style.Styler at 0x1406b9c60>"
      ]
     },
     "execution_count": 17,
     "metadata": {},
     "output_type": "execute_result"
    }
   ],
   "source": [
    "pd.crosstab([df_train['Sex'], df_train['Survived']], df_train['Pclass'], margins=True).style.background_gradient(cmap='YlGnBu')"
   ]
  },
  {
   "cell_type": "code",
   "execution_count": 18,
   "metadata": {
    "collapsed": false,
    "jupyter": {
     "outputs_hidden": false
    },
    "pycharm": {
     "name": "#%%\n"
    }
   },
   "outputs": [
    {
     "data": {
      "text/plain": [
       "<seaborn.axisgrid.FacetGrid at 0x1413807f0>"
      ]
     },
     "execution_count": 18,
     "metadata": {},
     "output_type": "execute_result"
    },
    {
     "data": {
      "image/png": "[encoded data removed]",
      "text/plain": [
       "<Figure size 430.5x360 with 1 Axes>"
      ]
     },
     "metadata": {
      "needs_background": "light"
     },
     "output_type": "display_data"
    }
   ],
   "source": [
    "sns.catplot(x='Pclass', y='Survived', hue='Sex', data=df_train, kind='point')"
   ]
  },
  {
   "cell_type": "code",
   "execution_count": 21,
   "metadata": {},
   "outputs": [
    {
     "data": {
      "text/plain": [
       "<seaborn.axisgrid.FacetGrid at 0x1406a37f0>"
      ]
     },
     "execution_count": 21,
     "metadata": {},
     "output_type": "execute_result"
    },
    {
     "data": {
      "image/png": "[encoded data removed]",
      "text/plain": [
       "<Figure size 1080x360 with 3 Axes>"
      ]
     },
     "metadata": {
      "needs_background": "light"
     },
     "output_type": "display_data"
    }
   ],
   "source": [
    "sns.catplot(x='Survived', col='Embarked', kind='count', data=df_train)"
   ]
  },
  {
   "cell_type": "code",
   "execution_count": null,
   "metadata": {},
   "outputs": [],
   "source": [
    "pd.crosstab([df_train[''])"
   ]
  },
  {
   "cell_type": "code",
   "execution_count": 23,
   "metadata": {},
   "outputs": [
    {
     "name": "stderr",
     "output_type": "stream",
     "text": [
      "/opt/homebrew/Caskroom/miniforge/base/envs/pytest/lib/python3.10/site-packages/seaborn/_decorators.py:36: FutureWarning: Pass the following variables as keyword args: x, y. From version 0.12, the only valid positional argument will be `data`, and passing other arguments without an explicit keyword will result in an error or misinterpretation.\n",
      "  warnings.warn(\n"
     ]
    },
    {
     "data": {
      "text/plain": [
       "<seaborn.axisgrid.FacetGrid at 0x14139c460>"
      ]
     },
     "execution_count": 23,
     "metadata": {},
     "output_type": "execute_result"
    },
    {
     "data": {
      "image/png": "[encoded data removed]",
      "text/plain": [
       "<Figure size 1150.5x360 with 3 Axes>"
      ]
     },
     "metadata": {
      "needs_background": "light"
     },
     "output_type": "display_data"
    }
   ],
   "source": [
    "sns.catplot('Embarked', 'Survived', col='Pclass', hue='Sex', kind='point', data=df_train)"
   ]
  },
  {
   "cell_type": "code",
   "execution_count": 173,
   "metadata": {},
   "outputs": [
    {
     "data": {
      "text/html": [
       "<style type=\"text/css\">\n",
       "#T_e8629_row0_col0, #T_e8629_row0_col1, #T_e8629_row0_col2, #T_e8629_row0_col6, #T_e8629_row0_col7, #T_e8629_row0_col8, #T_e8629_row0_col12, #T_e8629_row0_col13, #T_e8629_row1_col3, #T_e8629_row1_col4, #T_e8629_row1_col5, #T_e8629_row1_col9, #T_e8629_row1_col10, #T_e8629_row1_col11, #T_e8629_row1_col14, #T_e8629_row1_col15, #T_e8629_row1_col16, #T_e8629_row1_col17, #T_e8629_row1_col18 {\n",
       "  background-color: #ffffd9;\n",
       "  color: #000000;\n",
       "}\n",
       "#T_e8629_row0_col3 {\n",
       "  background-color: #a0dab8;\n",
       "  color: #000000;\n",
       "}\n",
       "#T_e8629_row0_col4 {\n",
       "  background-color: #225da8;\n",
       "  color: #f1f1f1;\n",
       "}\n",
       "#T_e8629_row0_col5 {\n",
       "  background-color: #2073b2;\n",
       "  color: #f1f1f1;\n",
       "}\n",
       "#T_e8629_row0_col9, #T_e8629_row0_col10, #T_e8629_row1_col1, #T_e8629_row1_col6, #T_e8629_row1_col7, #T_e8629_row2_col0, #T_e8629_row2_col1, #T_e8629_row2_col2, #T_e8629_row2_col3, #T_e8629_row2_col4, #T_e8629_row2_col5, #T_e8629_row2_col6, #T_e8629_row2_col7, #T_e8629_row2_col8, #T_e8629_row2_col9, #T_e8629_row2_col10, #T_e8629_row2_col11, #T_e8629_row2_col12, #T_e8629_row2_col13, #T_e8629_row2_col14, #T_e8629_row2_col15, #T_e8629_row2_col16, #T_e8629_row2_col17, #T_e8629_row2_col18 {\n",
       "  background-color: #081d58;\n",
       "  color: #f1f1f1;\n",
       "}\n",
       "#T_e8629_row0_col11 {\n",
       "  background-color: #1b2c80;\n",
       "  color: #f1f1f1;\n",
       "}\n",
       "#T_e8629_row0_col14 {\n",
       "  background-color: #73c8bd;\n",
       "  color: #000000;\n",
       "}\n",
       "#T_e8629_row0_col15 {\n",
       "  background-color: #59bfc0;\n",
       "  color: #000000;\n",
       "}\n",
       "#T_e8629_row0_col16 {\n",
       "  background-color: #24479d;\n",
       "  color: #f1f1f1;\n",
       "}\n",
       "#T_e8629_row0_col17 {\n",
       "  background-color: #253b97;\n",
       "  color: #f1f1f1;\n",
       "}\n",
       "#T_e8629_row0_col18 {\n",
       "  background-color: #7cccbb;\n",
       "  color: #000000;\n",
       "}\n",
       "#T_e8629_row1_col0 {\n",
       "  background-color: #0d2163;\n",
       "  color: #f1f1f1;\n",
       "}\n",
       "#T_e8629_row1_col2 {\n",
       "  background-color: #52bcc2;\n",
       "  color: #000000;\n",
       "}\n",
       "#T_e8629_row1_col8 {\n",
       "  background-color: #1d90c0;\n",
       "  color: #f1f1f1;\n",
       "}\n",
       "#T_e8629_row1_col12 {\n",
       "  background-color: #12256d;\n",
       "  color: #f1f1f1;\n",
       "}\n",
       "#T_e8629_row1_col13 {\n",
       "  background-color: #1f2f87;\n",
       "  color: #f1f1f1;\n",
       "}\n",
       "</style>\n",
       "<table id=\"T_e8629_\">\n",
       "  <thead>\n",
       "    <tr>\n",
       "      <th class=\"index_name level0\" >Embarked</th>\n",
       "      <th class=\"col_heading level0 col0\" colspan=\"6\">C</th>\n",
       "      <th class=\"col_heading level0 col6\" colspan=\"6\">Q</th>\n",
       "      <th class=\"col_heading level0 col12\" colspan=\"6\">S</th>\n",
       "      <th class=\"col_heading level0 col18\" >All</th>\n",
       "    </tr>\n",
       "    <tr>\n",
       "      <th class=\"index_name level1\" >Sex</th>\n",
       "      <th class=\"col_heading level1 col0\" colspan=\"3\">female</th>\n",
       "      <th class=\"col_heading level1 col3\" colspan=\"3\">male</th>\n",
       "      <th class=\"col_heading level1 col6\" colspan=\"3\">female</th>\n",
       "      <th class=\"col_heading level1 col9\" colspan=\"3\">male</th>\n",
       "      <th class=\"col_heading level1 col12\" colspan=\"3\">female</th>\n",
       "      <th class=\"col_heading level1 col15\" colspan=\"3\">male</th>\n",
       "      <th class=\"col_heading level1 col18\" ></th>\n",
       "    </tr>\n",
       "    <tr>\n",
       "      <th class=\"index_name level2\" >Pclass</th>\n",
       "      <th class=\"col_heading level2 col0\" >1</th>\n",
       "      <th class=\"col_heading level2 col1\" >2</th>\n",
       "      <th class=\"col_heading level2 col2\" >3</th>\n",
       "      <th class=\"col_heading level2 col3\" >1</th>\n",
       "      <th class=\"col_heading level2 col4\" >2</th>\n",
       "      <th class=\"col_heading level2 col5\" >3</th>\n",
       "      <th class=\"col_heading level2 col6\" >1</th>\n",
       "      <th class=\"col_heading level2 col7\" >2</th>\n",
       "      <th class=\"col_heading level2 col8\" >3</th>\n",
       "      <th class=\"col_heading level2 col9\" >1</th>\n",
       "      <th class=\"col_heading level2 col10\" >2</th>\n",
       "      <th class=\"col_heading level2 col11\" >3</th>\n",
       "      <th class=\"col_heading level2 col12\" >1</th>\n",
       "      <th class=\"col_heading level2 col13\" >2</th>\n",
       "      <th class=\"col_heading level2 col14\" >3</th>\n",
       "      <th class=\"col_heading level2 col15\" >1</th>\n",
       "      <th class=\"col_heading level2 col16\" >2</th>\n",
       "      <th class=\"col_heading level2 col17\" >3</th>\n",
       "      <th class=\"col_heading level2 col18\" ></th>\n",
       "    </tr>\n",
       "    <tr>\n",
       "      <th class=\"index_name level0\" >Survived</th>\n",
       "      <th class=\"blank col0\" >&nbsp;</th>\n",
       "      <th class=\"blank col1\" >&nbsp;</th>\n",
       "      <th class=\"blank col2\" >&nbsp;</th>\n",
       "      <th class=\"blank col3\" >&nbsp;</th>\n",
       "      <th class=\"blank col4\" >&nbsp;</th>\n",
       "      <th class=\"blank col5\" >&nbsp;</th>\n",
       "      <th class=\"blank col6\" >&nbsp;</th>\n",
       "      <th class=\"blank col7\" >&nbsp;</th>\n",
       "      <th class=\"blank col8\" >&nbsp;</th>\n",
       "      <th class=\"blank col9\" >&nbsp;</th>\n",
       "      <th class=\"blank col10\" >&nbsp;</th>\n",
       "      <th class=\"blank col11\" >&nbsp;</th>\n",
       "      <th class=\"blank col12\" >&nbsp;</th>\n",
       "      <th class=\"blank col13\" >&nbsp;</th>\n",
       "      <th class=\"blank col14\" >&nbsp;</th>\n",
       "      <th class=\"blank col15\" >&nbsp;</th>\n",
       "      <th class=\"blank col16\" >&nbsp;</th>\n",
       "      <th class=\"blank col17\" >&nbsp;</th>\n",
       "      <th class=\"blank col18\" >&nbsp;</th>\n",
       "    </tr>\n",
       "  </thead>\n",
       "  <tbody>\n",
       "    <tr>\n",
       "      <th id=\"T_e8629_level0_row0\" class=\"row_heading level0 row0\" >0</th>\n",
       "      <td id=\"T_e8629_row0_col0\" class=\"data row0 col0\" >1</td>\n",
       "      <td id=\"T_e8629_row0_col1\" class=\"data row0 col1\" >0</td>\n",
       "      <td id=\"T_e8629_row0_col2\" class=\"data row0 col2\" >8</td>\n",
       "      <td id=\"T_e8629_row0_col3\" class=\"data row0 col3\" >25</td>\n",
       "      <td id=\"T_e8629_row0_col4\" class=\"data row0 col4\" >8</td>\n",
       "      <td id=\"T_e8629_row0_col5\" class=\"data row0 col5\" >33</td>\n",
       "      <td id=\"T_e8629_row0_col6\" class=\"data row0 col6\" >0</td>\n",
       "      <td id=\"T_e8629_row0_col7\" class=\"data row0 col7\" >0</td>\n",
       "      <td id=\"T_e8629_row0_col8\" class=\"data row0 col8\" >9</td>\n",
       "      <td id=\"T_e8629_row0_col9\" class=\"data row0 col9\" >1</td>\n",
       "      <td id=\"T_e8629_row0_col10\" class=\"data row0 col10\" >1</td>\n",
       "      <td id=\"T_e8629_row0_col11\" class=\"data row0 col11\" >36</td>\n",
       "      <td id=\"T_e8629_row0_col12\" class=\"data row0 col12\" >2</td>\n",
       "      <td id=\"T_e8629_row0_col13\" class=\"data row0 col13\" >6</td>\n",
       "      <td id=\"T_e8629_row0_col14\" class=\"data row0 col14\" >55</td>\n",
       "      <td id=\"T_e8629_row0_col15\" class=\"data row0 col15\" >51</td>\n",
       "      <td id=\"T_e8629_row0_col16\" class=\"data row0 col16\" >82</td>\n",
       "      <td id=\"T_e8629_row0_col17\" class=\"data row0 col17\" >231</td>\n",
       "      <td id=\"T_e8629_row0_col18\" class=\"data row0 col18\" >549</td>\n",
       "    </tr>\n",
       "    <tr>\n",
       "      <th id=\"T_e8629_level0_row1\" class=\"row_heading level0 row1\" >1</th>\n",
       "      <td id=\"T_e8629_row1_col0\" class=\"data row1 col0\" >42</td>\n",
       "      <td id=\"T_e8629_row1_col1\" class=\"data row1 col1\" >7</td>\n",
       "      <td id=\"T_e8629_row1_col2\" class=\"data row1 col2\" >15</td>\n",
       "      <td id=\"T_e8629_row1_col3\" class=\"data row1 col3\" >17</td>\n",
       "      <td id=\"T_e8629_row1_col4\" class=\"data row1 col4\" >2</td>\n",
       "      <td id=\"T_e8629_row1_col5\" class=\"data row1 col5\" >10</td>\n",
       "      <td id=\"T_e8629_row1_col6\" class=\"data row1 col6\" >1</td>\n",
       "      <td id=\"T_e8629_row1_col7\" class=\"data row1 col7\" >2</td>\n",
       "      <td id=\"T_e8629_row1_col8\" class=\"data row1 col8\" >24</td>\n",
       "      <td id=\"T_e8629_row1_col9\" class=\"data row1 col9\" >0</td>\n",
       "      <td id=\"T_e8629_row1_col10\" class=\"data row1 col10\" >0</td>\n",
       "      <td id=\"T_e8629_row1_col11\" class=\"data row1 col11\" >3</td>\n",
       "      <td id=\"T_e8629_row1_col12\" class=\"data row1 col12\" >46</td>\n",
       "      <td id=\"T_e8629_row1_col13\" class=\"data row1 col13\" >61</td>\n",
       "      <td id=\"T_e8629_row1_col14\" class=\"data row1 col14\" >33</td>\n",
       "      <td id=\"T_e8629_row1_col15\" class=\"data row1 col15\" >28</td>\n",
       "      <td id=\"T_e8629_row1_col16\" class=\"data row1 col16\" >15</td>\n",
       "      <td id=\"T_e8629_row1_col17\" class=\"data row1 col17\" >34</td>\n",
       "      <td id=\"T_e8629_row1_col18\" class=\"data row1 col18\" >340</td>\n",
       "    </tr>\n",
       "    <tr>\n",
       "      <th id=\"T_e8629_level0_row2\" class=\"row_heading level0 row2\" >All</th>\n",
       "      <td id=\"T_e8629_row2_col0\" class=\"data row2 col0\" >43</td>\n",
       "      <td id=\"T_e8629_row2_col1\" class=\"data row2 col1\" >7</td>\n",
       "      <td id=\"T_e8629_row2_col2\" class=\"data row2 col2\" >23</td>\n",
       "      <td id=\"T_e8629_row2_col3\" class=\"data row2 col3\" >42</td>\n",
       "      <td id=\"T_e8629_row2_col4\" class=\"data row2 col4\" >10</td>\n",
       "      <td id=\"T_e8629_row2_col5\" class=\"data row2 col5\" >43</td>\n",
       "      <td id=\"T_e8629_row2_col6\" class=\"data row2 col6\" >1</td>\n",
       "      <td id=\"T_e8629_row2_col7\" class=\"data row2 col7\" >2</td>\n",
       "      <td id=\"T_e8629_row2_col8\" class=\"data row2 col8\" >33</td>\n",
       "      <td id=\"T_e8629_row2_col9\" class=\"data row2 col9\" >1</td>\n",
       "      <td id=\"T_e8629_row2_col10\" class=\"data row2 col10\" >1</td>\n",
       "      <td id=\"T_e8629_row2_col11\" class=\"data row2 col11\" >39</td>\n",
       "      <td id=\"T_e8629_row2_col12\" class=\"data row2 col12\" >48</td>\n",
       "      <td id=\"T_e8629_row2_col13\" class=\"data row2 col13\" >67</td>\n",
       "      <td id=\"T_e8629_row2_col14\" class=\"data row2 col14\" >88</td>\n",
       "      <td id=\"T_e8629_row2_col15\" class=\"data row2 col15\" >79</td>\n",
       "      <td id=\"T_e8629_row2_col16\" class=\"data row2 col16\" >97</td>\n",
       "      <td id=\"T_e8629_row2_col17\" class=\"data row2 col17\" >265</td>\n",
       "      <td id=\"T_e8629_row2_col18\" class=\"data row2 col18\" >889</td>\n",
       "    </tr>\n",
       "  </tbody>\n",
       "</table>\n"
      ],
      "text/plain": [
       "<pandas.io.formats.style.Styler at 0x1427010f0>"
      ]
     },
     "execution_count": 173,
     "metadata": {},
     "output_type": "execute_result"
    }
   ],
   "source": [
    "pd.crosstab([df_train['Survived']], [df_train['Embarked'], df_train['Sex'], df_train['Pclass']], margins=True).style.background_gradient(cmap='YlGnBu')"
   ]
  },
  {
   "cell_type": "code",
   "execution_count": 48,
   "metadata": {},
   "outputs": [],
   "source": [
    "df_train['Age_bin'] = df_train.loc[df_train['Age'].isna()==False, 'Age'].apply(lambda age: int(age // 10))\n",
    "df_test['Age_bin'] = df_test.loc[df_test['Age'].isna()==False, 'Age'].apply(lambda age: int(age // 10))"
   ]
  },
  {
   "cell_type": "code",
   "execution_count": 58,
   "metadata": {},
   "outputs": [],
   "source": [
    "df_train['Age_bin'] = np.where(df_train['Age_bin'] >=7, 7, df_train['Age_bin'])\n",
    "df_test['Age_bin'] = np.where(df_test['Age_bin'] >=7, 7, df_test['Age_bin'])"
   ]
  },
  {
   "cell_type": "code",
   "execution_count": 50,
   "metadata": {},
   "outputs": [],
   "source": [
    "import warnings\n",
    "warnings.filterwarnings('ignore', category=FutureWarning)"
   ]
  },
  {
   "cell_type": "code",
   "execution_count": 62,
   "metadata": {},
   "outputs": [
    {
     "data": {
      "text/html": [
       "<div>\n",
       "<style scoped>\n",
       "    .dataframe tbody tr th:only-of-type {\n",
       "        vertical-align: middle;\n",
       "    }\n",
       "\n",
       "    .dataframe tbody tr th {\n",
       "        vertical-align: top;\n",
       "    }\n",
       "\n",
       "    .dataframe thead th {\n",
       "        text-align: right;\n",
       "    }\n",
       "</style>\n",
       "<table border=\"1\" class=\"dataframe\">\n",
       "  <thead>\n",
       "    <tr style=\"text-align: right;\">\n",
       "      <th></th>\n",
       "      <th>Survived</th>\n",
       "      <th>0</th>\n",
       "      <th>1</th>\n",
       "    </tr>\n",
       "    <tr>\n",
       "      <th>Age_bin</th>\n",
       "      <th>Sex</th>\n",
       "      <th></th>\n",
       "      <th></th>\n",
       "    </tr>\n",
       "  </thead>\n",
       "  <tbody>\n",
       "    <tr>\n",
       "      <th rowspan=\"2\" valign=\"top\">0.0</th>\n",
       "      <th>female</th>\n",
       "      <td>11</td>\n",
       "      <td>19</td>\n",
       "    </tr>\n",
       "    <tr>\n",
       "      <th>male</th>\n",
       "      <td>13</td>\n",
       "      <td>19</td>\n",
       "    </tr>\n",
       "    <tr>\n",
       "      <th rowspan=\"2\" valign=\"top\">1.0</th>\n",
       "      <th>female</th>\n",
       "      <td>11</td>\n",
       "      <td>34</td>\n",
       "    </tr>\n",
       "    <tr>\n",
       "      <th>male</th>\n",
       "      <td>50</td>\n",
       "      <td>7</td>\n",
       "    </tr>\n",
       "    <tr>\n",
       "      <th rowspan=\"2\" valign=\"top\">2.0</th>\n",
       "      <th>female</th>\n",
       "      <td>20</td>\n",
       "      <td>52</td>\n",
       "    </tr>\n",
       "    <tr>\n",
       "      <th>male</th>\n",
       "      <td>123</td>\n",
       "      <td>25</td>\n",
       "    </tr>\n",
       "    <tr>\n",
       "      <th rowspan=\"2\" valign=\"top\">3.0</th>\n",
       "      <th>female</th>\n",
       "      <td>10</td>\n",
       "      <td>50</td>\n",
       "    </tr>\n",
       "    <tr>\n",
       "      <th>male</th>\n",
       "      <td>84</td>\n",
       "      <td>23</td>\n",
       "    </tr>\n",
       "    <tr>\n",
       "      <th rowspan=\"2\" valign=\"top\">4.0</th>\n",
       "      <th>female</th>\n",
       "      <td>10</td>\n",
       "      <td>22</td>\n",
       "    </tr>\n",
       "    <tr>\n",
       "      <th>male</th>\n",
       "      <td>45</td>\n",
       "      <td>12</td>\n",
       "    </tr>\n",
       "    <tr>\n",
       "      <th rowspan=\"2\" valign=\"top\">5.0</th>\n",
       "      <th>female</th>\n",
       "      <td>2</td>\n",
       "      <td>16</td>\n",
       "    </tr>\n",
       "    <tr>\n",
       "      <th>male</th>\n",
       "      <td>26</td>\n",
       "      <td>4</td>\n",
       "    </tr>\n",
       "    <tr>\n",
       "      <th rowspan=\"2\" valign=\"top\">6.0</th>\n",
       "      <th>female</th>\n",
       "      <td>0</td>\n",
       "      <td>4</td>\n",
       "    </tr>\n",
       "    <tr>\n",
       "      <th>male</th>\n",
       "      <td>13</td>\n",
       "      <td>2</td>\n",
       "    </tr>\n",
       "    <tr>\n",
       "      <th>7.0</th>\n",
       "      <th>male</th>\n",
       "      <td>6</td>\n",
       "      <td>1</td>\n",
       "    </tr>\n",
       "  </tbody>\n",
       "</table>\n",
       "</div>"
      ],
      "text/plain": [
       "Survived          0   1\n",
       "Age_bin Sex            \n",
       "0.0     female   11  19\n",
       "        male     13  19\n",
       "1.0     female   11  34\n",
       "        male     50   7\n",
       "2.0     female   20  52\n",
       "        male    123  25\n",
       "3.0     female   10  50\n",
       "        male     84  23\n",
       "4.0     female   10  22\n",
       "        male     45  12\n",
       "5.0     female    2  16\n",
       "        male     26   4\n",
       "6.0     female    0   4\n",
       "        male     13   2\n",
       "7.0     male      6   1"
      ]
     },
     "execution_count": 62,
     "metadata": {},
     "output_type": "execute_result"
    }
   ],
   "source": [
    "pd.crosstab([df_train['Age_bin'], df_train['Sex']], df_train['Survived'])"
   ]
  },
  {
   "cell_type": "code",
   "execution_count": 63,
   "metadata": {},
   "outputs": [
    {
     "data": {
      "text/plain": [
       "<seaborn.axisgrid.FacetGrid at 0x141e48d60>"
      ]
     },
     "execution_count": 63,
     "metadata": {},
     "output_type": "execute_result"
    },
    {
     "data": {
      "image/png": "[encoded data removed]",
      "text/plain": [
       "<Figure size 430.5x360 with 1 Axes>"
      ]
     },
     "metadata": {
      "needs_background": "light"
     },
     "output_type": "display_data"
    }
   ],
   "source": [
    "sns.catplot('Age_bin', 'Survived', hue='Sex', kind='point', data=df_train)"
   ]
  },
  {
   "cell_type": "code",
   "execution_count": 64,
   "metadata": {},
   "outputs": [
    {
     "data": {
      "text/plain": [
       "<seaborn.axisgrid.FacetGrid at 0x141f62170>"
      ]
     },
     "execution_count": 64,
     "metadata": {},
     "output_type": "execute_result"
    },
    {
     "data": {
      "image/png": "[encoded data removed]",
      "text/plain": [
       "<Figure size 1080x720 with 6 Axes>"
      ]
     },
     "metadata": {
      "needs_background": "light"
     },
     "output_type": "display_data"
    }
   ],
   "source": [
    "sns.catplot('Age_bin', 'Survived', col='Pclass', row='Sex', kind='point', data=df_train)"
   ]
  },
  {
   "cell_type": "code",
   "execution_count": 65,
   "metadata": {},
   "outputs": [
    {
     "data": {
      "text/html": [
       "<style type=\"text/css\">\n",
       "#T_f8edf_row0_col0, #T_f8edf_row1_col16, #T_f8edf_row1_col20, #T_f8edf_row3_col19 {\n",
       "  background-color: #97d6b9;\n",
       "  color: #000000;\n",
       "}\n",
       "#T_f8edf_row0_col1, #T_f8edf_row0_col3, #T_f8edf_row0_col4, #T_f8edf_row0_col6, #T_f8edf_row0_col9, #T_f8edf_row0_col10, #T_f8edf_row0_col12, #T_f8edf_row0_col13, #T_f8edf_row0_col15, #T_f8edf_row0_col17, #T_f8edf_row0_col18, #T_f8edf_row0_col19, #T_f8edf_row0_col20, #T_f8edf_row0_col21, #T_f8edf_row0_col22, #T_f8edf_row0_col23, #T_f8edf_row0_col24, #T_f8edf_row1_col0, #T_f8edf_row1_col8, #T_f8edf_row1_col11, #T_f8edf_row1_col14, #T_f8edf_row1_col17, #T_f8edf_row1_col19, #T_f8edf_row1_col21, #T_f8edf_row1_col22, #T_f8edf_row1_col23, #T_f8edf_row2_col0, #T_f8edf_row2_col1, #T_f8edf_row3_col2, #T_f8edf_row3_col5, #T_f8edf_row3_col7, #T_f8edf_row3_col13, #T_f8edf_row3_col16, #T_f8edf_row3_col17, #T_f8edf_row3_col20, #T_f8edf_row3_col22, #T_f8edf_row3_col23 {\n",
       "  background-color: #ffffd9;\n",
       "  color: #000000;\n",
       "}\n",
       "#T_f8edf_row0_col2, #T_f8edf_row3_col14 {\n",
       "  background-color: #f7fcc6;\n",
       "  color: #000000;\n",
       "}\n",
       "#T_f8edf_row0_col5, #T_f8edf_row3_col3 {\n",
       "  background-color: #eff9b6;\n",
       "  color: #000000;\n",
       "}\n",
       "#T_f8edf_row0_col7, #T_f8edf_row3_col4 {\n",
       "  background-color: #f7fcc7;\n",
       "  color: #000000;\n",
       "}\n",
       "#T_f8edf_row0_col8, #T_f8edf_row3_col8 {\n",
       "  background-color: #feffd6;\n",
       "  color: #000000;\n",
       "}\n",
       "#T_f8edf_row0_col11 {\n",
       "  background-color: #fafdcf;\n",
       "  color: #000000;\n",
       "}\n",
       "#T_f8edf_row0_col14 {\n",
       "  background-color: #c0e6b5;\n",
       "  color: #000000;\n",
       "}\n",
       "#T_f8edf_row0_col16 {\n",
       "  background-color: #f5fbc4;\n",
       "  color: #000000;\n",
       "}\n",
       "#T_f8edf_row1_col1, #T_f8edf_row1_col13 {\n",
       "  background-color: #50bbc2;\n",
       "  color: #000000;\n",
       "}\n",
       "#T_f8edf_row1_col2 {\n",
       "  background-color: #f3fabd;\n",
       "  color: #000000;\n",
       "}\n",
       "#T_f8edf_row1_col3 {\n",
       "  background-color: #216aad;\n",
       "  color: #f1f1f1;\n",
       "}\n",
       "#T_f8edf_row1_col4 {\n",
       "  background-color: #5dc0c0;\n",
       "  color: #000000;\n",
       "}\n",
       "#T_f8edf_row1_col5, #T_f8edf_row2_col2 {\n",
       "  background-color: #e7f6b1;\n",
       "  color: #000000;\n",
       "}\n",
       "#T_f8edf_row1_col6 {\n",
       "  background-color: #67c4be;\n",
       "  color: #000000;\n",
       "}\n",
       "#T_f8edf_row1_col7 {\n",
       "  background-color: #6bc6be;\n",
       "  color: #000000;\n",
       "}\n",
       "#T_f8edf_row1_col9 {\n",
       "  background-color: #35aac3;\n",
       "  color: #f1f1f1;\n",
       "}\n",
       "#T_f8edf_row1_col10 {\n",
       "  background-color: #a0dab8;\n",
       "  color: #000000;\n",
       "}\n",
       "#T_f8edf_row1_col12 {\n",
       "  background-color: #8ed3ba;\n",
       "  color: #000000;\n",
       "}\n",
       "#T_f8edf_row1_col15, #T_f8edf_row2_col15 {\n",
       "  background-color: #7acbbc;\n",
       "  color: #000000;\n",
       "}\n",
       "#T_f8edf_row1_col18 {\n",
       "  background-color: #cdebb4;\n",
       "  color: #000000;\n",
       "}\n",
       "#T_f8edf_row1_col24 {\n",
       "  background-color: #d5efb3;\n",
       "  color: #000000;\n",
       "}\n",
       "#T_f8edf_row2_col3 {\n",
       "  background-color: #e1f3b2;\n",
       "  color: #000000;\n",
       "}\n",
       "#T_f8edf_row2_col4 {\n",
       "  background-color: #40b5c4;\n",
       "  color: #f1f1f1;\n",
       "}\n",
       "#T_f8edf_row2_col5 {\n",
       "  background-color: #33a7c2;\n",
       "  color: #f1f1f1;\n",
       "}\n",
       "#T_f8edf_row2_col6, #T_f8edf_row3_col6, #T_f8edf_row3_col12 {\n",
       "  background-color: #c9eab4;\n",
       "  color: #000000;\n",
       "}\n",
       "#T_f8edf_row2_col7, #T_f8edf_row3_col1 {\n",
       "  background-color: #39adc3;\n",
       "  color: #f1f1f1;\n",
       "}\n",
       "#T_f8edf_row2_col8 {\n",
       "  background-color: #2397c1;\n",
       "  color: #f1f1f1;\n",
       "}\n",
       "#T_f8edf_row2_col9 {\n",
       "  background-color: #d0edb3;\n",
       "  color: #000000;\n",
       "}\n",
       "#T_f8edf_row2_col10 {\n",
       "  background-color: #2b9fc2;\n",
       "  color: #f1f1f1;\n",
       "}\n",
       "#T_f8edf_row2_col11 {\n",
       "  background-color: #2195c0;\n",
       "  color: #f1f1f1;\n",
       "}\n",
       "#T_f8edf_row2_col12 {\n",
       "  background-color: #71c8bd;\n",
       "  color: #000000;\n",
       "}\n",
       "#T_f8edf_row2_col13 {\n",
       "  background-color: #8cd2ba;\n",
       "  color: #000000;\n",
       "}\n",
       "#T_f8edf_row2_col14 {\n",
       "  background-color: #1f7bb6;\n",
       "  color: #f1f1f1;\n",
       "}\n",
       "#T_f8edf_row2_col16 {\n",
       "  background-color: #2498c1;\n",
       "  color: #f1f1f1;\n",
       "}\n",
       "#T_f8edf_row2_col17, #T_f8edf_row2_col22, #T_f8edf_row2_col23, #T_f8edf_row4_col0, #T_f8edf_row4_col1, #T_f8edf_row4_col2, #T_f8edf_row4_col3, #T_f8edf_row4_col4, #T_f8edf_row4_col5, #T_f8edf_row4_col6, #T_f8edf_row4_col7, #T_f8edf_row4_col8, #T_f8edf_row4_col9, #T_f8edf_row4_col10, #T_f8edf_row4_col11, #T_f8edf_row4_col12, #T_f8edf_row4_col13, #T_f8edf_row4_col14, #T_f8edf_row4_col15, #T_f8edf_row4_col16, #T_f8edf_row4_col17, #T_f8edf_row4_col18, #T_f8edf_row4_col19, #T_f8edf_row4_col20, #T_f8edf_row4_col21, #T_f8edf_row4_col22, #T_f8edf_row4_col23, #T_f8edf_row4_col24 {\n",
       "  background-color: #081d58;\n",
       "  color: #f1f1f1;\n",
       "}\n",
       "#T_f8edf_row2_col18 {\n",
       "  background-color: #2075b3;\n",
       "  color: #f1f1f1;\n",
       "}\n",
       "#T_f8edf_row2_col19, #T_f8edf_row2_col20, #T_f8edf_row3_col0 {\n",
       "  background-color: #1f80b8;\n",
       "  color: #f1f1f1;\n",
       "}\n",
       "#T_f8edf_row2_col21 {\n",
       "  background-color: #225da8;\n",
       "  color: #f1f1f1;\n",
       "}\n",
       "#T_f8edf_row2_col24 {\n",
       "  background-color: #57bec1;\n",
       "  color: #000000;\n",
       "}\n",
       "#T_f8edf_row3_col9 {\n",
       "  background-color: #caeab4;\n",
       "  color: #000000;\n",
       "}\n",
       "#T_f8edf_row3_col10 {\n",
       "  background-color: #f9fdcc;\n",
       "  color: #000000;\n",
       "}\n",
       "#T_f8edf_row3_col11 {\n",
       "  background-color: #fdfed4;\n",
       "  color: #000000;\n",
       "}\n",
       "#T_f8edf_row3_col15 {\n",
       "  background-color: #eff9b5;\n",
       "  color: #000000;\n",
       "}\n",
       "#T_f8edf_row3_col18 {\n",
       "  background-color: #f4fbc1;\n",
       "  color: #000000;\n",
       "}\n",
       "#T_f8edf_row3_col21 {\n",
       "  background-color: #c6e9b4;\n",
       "  color: #000000;\n",
       "}\n",
       "#T_f8edf_row3_col24 {\n",
       "  background-color: #f9fdcb;\n",
       "  color: #000000;\n",
       "}\n",
       "</style>\n",
       "<table id=\"T_f8edf_\">\n",
       "  <thead>\n",
       "    <tr>\n",
       "      <th class=\"blank\" >&nbsp;</th>\n",
       "      <th class=\"index_name level0\" >Age_bin</th>\n",
       "      <th class=\"col_heading level0 col0\" colspan=\"3\">0.0</th>\n",
       "      <th class=\"col_heading level0 col3\" colspan=\"3\">1.0</th>\n",
       "      <th class=\"col_heading level0 col6\" colspan=\"3\">2.0</th>\n",
       "      <th class=\"col_heading level0 col9\" colspan=\"3\">3.0</th>\n",
       "      <th class=\"col_heading level0 col12\" colspan=\"3\">4.0</th>\n",
       "      <th class=\"col_heading level0 col15\" colspan=\"3\">5.0</th>\n",
       "      <th class=\"col_heading level0 col18\" colspan=\"3\">6.0</th>\n",
       "      <th class=\"col_heading level0 col21\" colspan=\"3\">7.0</th>\n",
       "      <th class=\"col_heading level0 col24\" >All</th>\n",
       "    </tr>\n",
       "    <tr>\n",
       "      <th class=\"blank\" >&nbsp;</th>\n",
       "      <th class=\"index_name level1\" >Pclass</th>\n",
       "      <th class=\"col_heading level1 col0\" >1</th>\n",
       "      <th class=\"col_heading level1 col1\" >2</th>\n",
       "      <th class=\"col_heading level1 col2\" >3</th>\n",
       "      <th class=\"col_heading level1 col3\" >1</th>\n",
       "      <th class=\"col_heading level1 col4\" >2</th>\n",
       "      <th class=\"col_heading level1 col5\" >3</th>\n",
       "      <th class=\"col_heading level1 col6\" >1</th>\n",
       "      <th class=\"col_heading level1 col7\" >2</th>\n",
       "      <th class=\"col_heading level1 col8\" >3</th>\n",
       "      <th class=\"col_heading level1 col9\" >1</th>\n",
       "      <th class=\"col_heading level1 col10\" >2</th>\n",
       "      <th class=\"col_heading level1 col11\" >3</th>\n",
       "      <th class=\"col_heading level1 col12\" >1</th>\n",
       "      <th class=\"col_heading level1 col13\" >2</th>\n",
       "      <th class=\"col_heading level1 col14\" >3</th>\n",
       "      <th class=\"col_heading level1 col15\" >1</th>\n",
       "      <th class=\"col_heading level1 col16\" >2</th>\n",
       "      <th class=\"col_heading level1 col17\" >3</th>\n",
       "      <th class=\"col_heading level1 col18\" >1</th>\n",
       "      <th class=\"col_heading level1 col19\" >2</th>\n",
       "      <th class=\"col_heading level1 col20\" >3</th>\n",
       "      <th class=\"col_heading level1 col21\" >1</th>\n",
       "      <th class=\"col_heading level1 col22\" >2</th>\n",
       "      <th class=\"col_heading level1 col23\" >3</th>\n",
       "      <th class=\"col_heading level1 col24\" ></th>\n",
       "    </tr>\n",
       "    <tr>\n",
       "      <th class=\"index_name level0\" >Sex</th>\n",
       "      <th class=\"index_name level1\" >Survived</th>\n",
       "      <th class=\"blank col0\" >&nbsp;</th>\n",
       "      <th class=\"blank col1\" >&nbsp;</th>\n",
       "      <th class=\"blank col2\" >&nbsp;</th>\n",
       "      <th class=\"blank col3\" >&nbsp;</th>\n",
       "      <th class=\"blank col4\" >&nbsp;</th>\n",
       "      <th class=\"blank col5\" >&nbsp;</th>\n",
       "      <th class=\"blank col6\" >&nbsp;</th>\n",
       "      <th class=\"blank col7\" >&nbsp;</th>\n",
       "      <th class=\"blank col8\" >&nbsp;</th>\n",
       "      <th class=\"blank col9\" >&nbsp;</th>\n",
       "      <th class=\"blank col10\" >&nbsp;</th>\n",
       "      <th class=\"blank col11\" >&nbsp;</th>\n",
       "      <th class=\"blank col12\" >&nbsp;</th>\n",
       "      <th class=\"blank col13\" >&nbsp;</th>\n",
       "      <th class=\"blank col14\" >&nbsp;</th>\n",
       "      <th class=\"blank col15\" >&nbsp;</th>\n",
       "      <th class=\"blank col16\" >&nbsp;</th>\n",
       "      <th class=\"blank col17\" >&nbsp;</th>\n",
       "      <th class=\"blank col18\" >&nbsp;</th>\n",
       "      <th class=\"blank col19\" >&nbsp;</th>\n",
       "      <th class=\"blank col20\" >&nbsp;</th>\n",
       "      <th class=\"blank col21\" >&nbsp;</th>\n",
       "      <th class=\"blank col22\" >&nbsp;</th>\n",
       "      <th class=\"blank col23\" >&nbsp;</th>\n",
       "      <th class=\"blank col24\" >&nbsp;</th>\n",
       "    </tr>\n",
       "  </thead>\n",
       "  <tbody>\n",
       "    <tr>\n",
       "      <th id=\"T_f8edf_level0_row0\" class=\"row_heading level0 row0\" rowspan=\"2\">female</th>\n",
       "      <th id=\"T_f8edf_level1_row0\" class=\"row_heading level1 row0\" >0</th>\n",
       "      <td id=\"T_f8edf_row0_col0\" class=\"data row0 col0\" >1</td>\n",
       "      <td id=\"T_f8edf_row0_col1\" class=\"data row0 col1\" >0</td>\n",
       "      <td id=\"T_f8edf_row0_col2\" class=\"data row0 col2\" >10</td>\n",
       "      <td id=\"T_f8edf_row0_col3\" class=\"data row0 col3\" >0</td>\n",
       "      <td id=\"T_f8edf_row0_col4\" class=\"data row0 col4\" >0</td>\n",
       "      <td id=\"T_f8edf_row0_col5\" class=\"data row0 col5\" >11</td>\n",
       "      <td id=\"T_f8edf_row0_col6\" class=\"data row0 col6\" >1</td>\n",
       "      <td id=\"T_f8edf_row0_col7\" class=\"data row0 col7\" >3</td>\n",
       "      <td id=\"T_f8edf_row0_col8\" class=\"data row0 col8\" >16</td>\n",
       "      <td id=\"T_f8edf_row0_col9\" class=\"data row0 col9\" >0</td>\n",
       "      <td id=\"T_f8edf_row0_col10\" class=\"data row0 col10\" >1</td>\n",
       "      <td id=\"T_f8edf_row0_col11\" class=\"data row0 col11\" >9</td>\n",
       "      <td id=\"T_f8edf_row0_col12\" class=\"data row0 col12\" >0</td>\n",
       "      <td id=\"T_f8edf_row0_col13\" class=\"data row0 col13\" >1</td>\n",
       "      <td id=\"T_f8edf_row0_col14\" class=\"data row0 col14\" >9</td>\n",
       "      <td id=\"T_f8edf_row0_col15\" class=\"data row0 col15\" >1</td>\n",
       "      <td id=\"T_f8edf_row0_col16\" class=\"data row0 col16\" >1</td>\n",
       "      <td id=\"T_f8edf_row0_col17\" class=\"data row0 col17\" >0</td>\n",
       "      <td id=\"T_f8edf_row0_col18\" class=\"data row0 col18\" >0</td>\n",
       "      <td id=\"T_f8edf_row0_col19\" class=\"data row0 col19\" >0</td>\n",
       "      <td id=\"T_f8edf_row0_col20\" class=\"data row0 col20\" >0</td>\n",
       "      <td id=\"T_f8edf_row0_col21\" class=\"data row0 col21\" >0</td>\n",
       "      <td id=\"T_f8edf_row0_col22\" class=\"data row0 col22\" >0</td>\n",
       "      <td id=\"T_f8edf_row0_col23\" class=\"data row0 col23\" >0</td>\n",
       "      <td id=\"T_f8edf_row0_col24\" class=\"data row0 col24\" >64</td>\n",
       "    </tr>\n",
       "    <tr>\n",
       "      <th id=\"T_f8edf_level1_row1\" class=\"row_heading level1 row1\" >1</th>\n",
       "      <td id=\"T_f8edf_row1_col0\" class=\"data row1 col0\" >0</td>\n",
       "      <td id=\"T_f8edf_row1_col1\" class=\"data row1 col1\" >8</td>\n",
       "      <td id=\"T_f8edf_row1_col2\" class=\"data row1 col2\" >11</td>\n",
       "      <td id=\"T_f8edf_row1_col3\" class=\"data row1 col3\" >13</td>\n",
       "      <td id=\"T_f8edf_row1_col4\" class=\"data row1 col4\" >8</td>\n",
       "      <td id=\"T_f8edf_row1_col5\" class=\"data row1 col5\" >13</td>\n",
       "      <td id=\"T_f8edf_row1_col6\" class=\"data row1 col6\" >15</td>\n",
       "      <td id=\"T_f8edf_row1_col7\" class=\"data row1 col7\" >22</td>\n",
       "      <td id=\"T_f8edf_row1_col8\" class=\"data row1 col8\" >15</td>\n",
       "      <td id=\"T_f8edf_row1_col9\" class=\"data row1 col9\" >27</td>\n",
       "      <td id=\"T_f8edf_row1_col10\" class=\"data row1 col10\" >16</td>\n",
       "      <td id=\"T_f8edf_row1_col11\" class=\"data row1 col11\" >7</td>\n",
       "      <td id=\"T_f8edf_row1_col12\" class=\"data row1 col12\" >13</td>\n",
       "      <td id=\"T_f8edf_row1_col13\" class=\"data row1 col13\" >9</td>\n",
       "      <td id=\"T_f8edf_row1_col14\" class=\"data row1 col14\" >0</td>\n",
       "      <td id=\"T_f8edf_row1_col15\" class=\"data row1 col15\" >11</td>\n",
       "      <td id=\"T_f8edf_row1_col16\" class=\"data row1 col16\" >5</td>\n",
       "      <td id=\"T_f8edf_row1_col17\" class=\"data row1 col17\" >0</td>\n",
       "      <td id=\"T_f8edf_row1_col18\" class=\"data row1 col18\" >3</td>\n",
       "      <td id=\"T_f8edf_row1_col19\" class=\"data row1 col19\" >0</td>\n",
       "      <td id=\"T_f8edf_row1_col20\" class=\"data row1 col20\" >1</td>\n",
       "      <td id=\"T_f8edf_row1_col21\" class=\"data row1 col21\" >0</td>\n",
       "      <td id=\"T_f8edf_row1_col22\" class=\"data row1 col22\" >0</td>\n",
       "      <td id=\"T_f8edf_row1_col23\" class=\"data row1 col23\" >0</td>\n",
       "      <td id=\"T_f8edf_row1_col24\" class=\"data row1 col24\" >197</td>\n",
       "    </tr>\n",
       "    <tr>\n",
       "      <th id=\"T_f8edf_level0_row2\" class=\"row_heading level0 row2\" rowspan=\"2\">male</th>\n",
       "      <th id=\"T_f8edf_level1_row2\" class=\"row_heading level1 row2\" >0</th>\n",
       "      <td id=\"T_f8edf_row2_col0\" class=\"data row2 col0\" >0</td>\n",
       "      <td id=\"T_f8edf_row2_col1\" class=\"data row2 col1\" >0</td>\n",
       "      <td id=\"T_f8edf_row2_col2\" class=\"data row2 col2\" >13</td>\n",
       "      <td id=\"T_f8edf_row2_col3\" class=\"data row2 col3\" >3</td>\n",
       "      <td id=\"T_f8edf_row2_col4\" class=\"data row2 col4\" >9</td>\n",
       "      <td id=\"T_f8edf_row2_col5\" class=\"data row2 col5\" >38</td>\n",
       "      <td id=\"T_f8edf_row2_col6\" class=\"data row2 col6\" >9</td>\n",
       "      <td id=\"T_f8edf_row2_col7\" class=\"data row2 col7\" >28</td>\n",
       "      <td id=\"T_f8edf_row2_col8\" class=\"data row2 col8\" >86</td>\n",
       "      <td id=\"T_f8edf_row2_col9\" class=\"data row2 col9\" >11</td>\n",
       "      <td id=\"T_f8edf_row2_col10\" class=\"data row2 col10\" >28</td>\n",
       "      <td id=\"T_f8edf_row2_col11\" class=\"data row2 col11\" >45</td>\n",
       "      <td id=\"T_f8edf_row2_col12\" class=\"data row2 col12\" >15</td>\n",
       "      <td id=\"T_f8edf_row2_col13\" class=\"data row2 col13\" >7</td>\n",
       "      <td id=\"T_f8edf_row2_col14\" class=\"data row2 col14\" >23</td>\n",
       "      <td id=\"T_f8edf_row2_col15\" class=\"data row2 col15\" >11</td>\n",
       "      <td id=\"T_f8edf_row2_col16\" class=\"data row2 col16\" >9</td>\n",
       "      <td id=\"T_f8edf_row2_col17\" class=\"data row2 col17\" >6</td>\n",
       "      <td id=\"T_f8edf_row2_col18\" class=\"data row2 col18\" >9</td>\n",
       "      <td id=\"T_f8edf_row2_col19\" class=\"data row2 col19\" >2</td>\n",
       "      <td id=\"T_f8edf_row2_col20\" class=\"data row2 col20\" >2</td>\n",
       "      <td id=\"T_f8edf_row2_col21\" class=\"data row2 col21\" >3</td>\n",
       "      <td id=\"T_f8edf_row2_col22\" class=\"data row2 col22\" >1</td>\n",
       "      <td id=\"T_f8edf_row2_col23\" class=\"data row2 col23\" >2</td>\n",
       "      <td id=\"T_f8edf_row2_col24\" class=\"data row2 col24\" >360</td>\n",
       "    </tr>\n",
       "    <tr>\n",
       "      <th id=\"T_f8edf_level1_row3\" class=\"row_heading level1 row3\" >1</th>\n",
       "      <td id=\"T_f8edf_row3_col0\" class=\"data row3 col0\" >2</td>\n",
       "      <td id=\"T_f8edf_row3_col1\" class=\"data row3 col1\" >9</td>\n",
       "      <td id=\"T_f8edf_row3_col2\" class=\"data row3 col2\" >8</td>\n",
       "      <td id=\"T_f8edf_row3_col3\" class=\"data row3 col3\" >2</td>\n",
       "      <td id=\"T_f8edf_row3_col4\" class=\"data row3 col4\" >1</td>\n",
       "      <td id=\"T_f8edf_row3_col5\" class=\"data row3 col5\" >4</td>\n",
       "      <td id=\"T_f8edf_row3_col6\" class=\"data row3 col6\" >9</td>\n",
       "      <td id=\"T_f8edf_row3_col7\" class=\"data row3 col7\" >0</td>\n",
       "      <td id=\"T_f8edf_row3_col8\" class=\"data row3 col8\" >16</td>\n",
       "      <td id=\"T_f8edf_row3_col9\" class=\"data row3 col9\" >12</td>\n",
       "      <td id=\"T_f8edf_row3_col10\" class=\"data row3 col10\" >3</td>\n",
       "      <td id=\"T_f8edf_row3_col11\" class=\"data row3 col11\" >8</td>\n",
       "      <td id=\"T_f8edf_row3_col12\" class=\"data row3 col12\" >9</td>\n",
       "      <td id=\"T_f8edf_row3_col13\" class=\"data row3 col13\" >1</td>\n",
       "      <td id=\"T_f8edf_row3_col14\" class=\"data row3 col14\" >2</td>\n",
       "      <td id=\"T_f8edf_row3_col15\" class=\"data row3 col15\" >4</td>\n",
       "      <td id=\"T_f8edf_row3_col16\" class=\"data row3 col16\" >0</td>\n",
       "      <td id=\"T_f8edf_row3_col17\" class=\"data row3 col17\" >0</td>\n",
       "      <td id=\"T_f8edf_row3_col18\" class=\"data row3 col18\" >1</td>\n",
       "      <td id=\"T_f8edf_row3_col19\" class=\"data row3 col19\" >1</td>\n",
       "      <td id=\"T_f8edf_row3_col20\" class=\"data row3 col20\" >0</td>\n",
       "      <td id=\"T_f8edf_row3_col21\" class=\"data row3 col21\" >1</td>\n",
       "      <td id=\"T_f8edf_row3_col22\" class=\"data row3 col22\" >0</td>\n",
       "      <td id=\"T_f8edf_row3_col23\" class=\"data row3 col23\" >0</td>\n",
       "      <td id=\"T_f8edf_row3_col24\" class=\"data row3 col24\" >93</td>\n",
       "    </tr>\n",
       "    <tr>\n",
       "      <th id=\"T_f8edf_level0_row4\" class=\"row_heading level0 row4\" >All</th>\n",
       "      <th id=\"T_f8edf_level1_row4\" class=\"row_heading level1 row4\" ></th>\n",
       "      <td id=\"T_f8edf_row4_col0\" class=\"data row4 col0\" >3</td>\n",
       "      <td id=\"T_f8edf_row4_col1\" class=\"data row4 col1\" >17</td>\n",
       "      <td id=\"T_f8edf_row4_col2\" class=\"data row4 col2\" >42</td>\n",
       "      <td id=\"T_f8edf_row4_col3\" class=\"data row4 col3\" >18</td>\n",
       "      <td id=\"T_f8edf_row4_col4\" class=\"data row4 col4\" >18</td>\n",
       "      <td id=\"T_f8edf_row4_col5\" class=\"data row4 col5\" >66</td>\n",
       "      <td id=\"T_f8edf_row4_col6\" class=\"data row4 col6\" >34</td>\n",
       "      <td id=\"T_f8edf_row4_col7\" class=\"data row4 col7\" >53</td>\n",
       "      <td id=\"T_f8edf_row4_col8\" class=\"data row4 col8\" >133</td>\n",
       "      <td id=\"T_f8edf_row4_col9\" class=\"data row4 col9\" >50</td>\n",
       "      <td id=\"T_f8edf_row4_col10\" class=\"data row4 col10\" >48</td>\n",
       "      <td id=\"T_f8edf_row4_col11\" class=\"data row4 col11\" >69</td>\n",
       "      <td id=\"T_f8edf_row4_col12\" class=\"data row4 col12\" >37</td>\n",
       "      <td id=\"T_f8edf_row4_col13\" class=\"data row4 col13\" >18</td>\n",
       "      <td id=\"T_f8edf_row4_col14\" class=\"data row4 col14\" >34</td>\n",
       "      <td id=\"T_f8edf_row4_col15\" class=\"data row4 col15\" >27</td>\n",
       "      <td id=\"T_f8edf_row4_col16\" class=\"data row4 col16\" >15</td>\n",
       "      <td id=\"T_f8edf_row4_col17\" class=\"data row4 col17\" >6</td>\n",
       "      <td id=\"T_f8edf_row4_col18\" class=\"data row4 col18\" >13</td>\n",
       "      <td id=\"T_f8edf_row4_col19\" class=\"data row4 col19\" >3</td>\n",
       "      <td id=\"T_f8edf_row4_col20\" class=\"data row4 col20\" >3</td>\n",
       "      <td id=\"T_f8edf_row4_col21\" class=\"data row4 col21\" >4</td>\n",
       "      <td id=\"T_f8edf_row4_col22\" class=\"data row4 col22\" >1</td>\n",
       "      <td id=\"T_f8edf_row4_col23\" class=\"data row4 col23\" >2</td>\n",
       "      <td id=\"T_f8edf_row4_col24\" class=\"data row4 col24\" >714</td>\n",
       "    </tr>\n",
       "  </tbody>\n",
       "</table>\n"
      ],
      "text/plain": [
       "<pandas.io.formats.style.Styler at 0x1412fa8c0>"
      ]
     },
     "execution_count": 65,
     "metadata": {},
     "output_type": "execute_result"
    }
   ],
   "source": [
    "pd.crosstab([df_train.Sex, df_train.Survived], [df_train.Age_bin, df_train.Pclass], margins=True).style.background_gradient(cmap='YlGnBu')"
   ]
  },
  {
   "cell_type": "code",
   "execution_count": 66,
   "metadata": {},
   "outputs": [
    {
     "data": {
      "image/png": "[encoded data removed]",
      "text/plain": [
       "<Figure size 1080x720 with 6 Axes>"
      ]
     },
     "metadata": {
      "needs_background": "light"
     },
     "output_type": "display_data"
    }
   ],
   "source": [
    "sns.catplot('SibSp','Survived', col='Pclass' , row = 'Sex', kind='point', data=df_train);"
   ]
  },
  {
   "cell_type": "code",
   "execution_count": 67,
   "metadata": {},
   "outputs": [
    {
     "data": {
      "text/html": [
       "<style type=\"text/css\">\n",
       "#T_5ab10_row0_col0, #T_5ab10_row0_col1, #T_5ab10_row0_col2, #T_5ab10_row0_col3, #T_5ab10_row0_col4, #T_5ab10_row0_col6, #T_5ab10_row0_col7, #T_5ab10_row0_col9, #T_5ab10_row0_col10, #T_5ab10_row0_col15, #T_5ab10_row1_col13, #T_5ab10_row1_col14, #T_5ab10_row2_col10, #T_5ab10_row3_col5, #T_5ab10_row3_col8, #T_5ab10_row3_col9, #T_5ab10_row3_col10, #T_5ab10_row3_col11, #T_5ab10_row3_col12, #T_5ab10_row3_col13, #T_5ab10_row3_col14 {\n",
       "  background-color: #ffffd9;\n",
       "  color: #000000;\n",
       "}\n",
       "#T_5ab10_row0_col5 {\n",
       "  background-color: #e6f5b2;\n",
       "  color: #000000;\n",
       "}\n",
       "#T_5ab10_row0_col8 {\n",
       "  background-color: #e8f6b1;\n",
       "  color: #000000;\n",
       "}\n",
       "#T_5ab10_row0_col11 {\n",
       "  background-color: #299dc1;\n",
       "  color: #f1f1f1;\n",
       "}\n",
       "#T_5ab10_row0_col12 {\n",
       "  background-color: #ddf2b2;\n",
       "  color: #000000;\n",
       "}\n",
       "#T_5ab10_row0_col13, #T_5ab10_row2_col3, #T_5ab10_row2_col6, #T_5ab10_row3_col6 {\n",
       "  background-color: #d6efb3;\n",
       "  color: #000000;\n",
       "}\n",
       "#T_5ab10_row0_col14, #T_5ab10_row2_col0, #T_5ab10_row2_col8 {\n",
       "  background-color: #65c3bf;\n",
       "  color: #000000;\n",
       "}\n",
       "#T_5ab10_row1_col0 {\n",
       "  background-color: #90d4b9;\n",
       "  color: #000000;\n",
       "}\n",
       "#T_5ab10_row1_col1, #T_5ab10_row2_col4 {\n",
       "  background-color: #9cd8b8;\n",
       "  color: #000000;\n",
       "}\n",
       "#T_5ab10_row1_col2 {\n",
       "  background-color: #f8fcca;\n",
       "  color: #000000;\n",
       "}\n",
       "#T_5ab10_row1_col3 {\n",
       "  background-color: #3bb0c3;\n",
       "  color: #f1f1f1;\n",
       "}\n",
       "#T_5ab10_row1_col4 {\n",
       "  background-color: #67c4be;\n",
       "  color: #000000;\n",
       "}\n",
       "#T_5ab10_row1_col5 {\n",
       "  background-color: #f1fabb;\n",
       "  color: #000000;\n",
       "}\n",
       "#T_5ab10_row1_col6 {\n",
       "  background-color: #2498c1;\n",
       "  color: #f1f1f1;\n",
       "}\n",
       "#T_5ab10_row1_col7 {\n",
       "  background-color: #7ecdbb;\n",
       "  color: #000000;\n",
       "}\n",
       "#T_5ab10_row1_col8 {\n",
       "  background-color: #d3eeb3;\n",
       "  color: #000000;\n",
       "}\n",
       "#T_5ab10_row1_col9 {\n",
       "  background-color: #1f80b8;\n",
       "  color: #f1f1f1;\n",
       "}\n",
       "#T_5ab10_row1_col10, #T_5ab10_row4_col0, #T_5ab10_row4_col1, #T_5ab10_row4_col2, #T_5ab10_row4_col3, #T_5ab10_row4_col4, #T_5ab10_row4_col5, #T_5ab10_row4_col6, #T_5ab10_row4_col7, #T_5ab10_row4_col8, #T_5ab10_row4_col9, #T_5ab10_row4_col10, #T_5ab10_row4_col11, #T_5ab10_row4_col12, #T_5ab10_row4_col13, #T_5ab10_row4_col14, #T_5ab10_row4_col15 {\n",
       "  background-color: #081d58;\n",
       "  color: #f1f1f1;\n",
       "}\n",
       "#T_5ab10_row1_col11 {\n",
       "  background-color: #f3fabf;\n",
       "  color: #000000;\n",
       "}\n",
       "#T_5ab10_row1_col12 {\n",
       "  background-color: #f7fcc6;\n",
       "  color: #000000;\n",
       "}\n",
       "#T_5ab10_row1_col15, #T_5ab10_row3_col3 {\n",
       "  background-color: #daf0b3;\n",
       "  color: #000000;\n",
       "}\n",
       "#T_5ab10_row2_col1 {\n",
       "  background-color: #33a7c2;\n",
       "  color: #f1f1f1;\n",
       "}\n",
       "#T_5ab10_row2_col2 {\n",
       "  background-color: #1d8dbe;\n",
       "  color: #f1f1f1;\n",
       "}\n",
       "#T_5ab10_row2_col5 {\n",
       "  background-color: #92d5b9;\n",
       "  color: #000000;\n",
       "}\n",
       "#T_5ab10_row2_col7 {\n",
       "  background-color: #40b5c4;\n",
       "  color: #f1f1f1;\n",
       "}\n",
       "#T_5ab10_row2_col9, #T_5ab10_row2_col11 {\n",
       "  background-color: #97d6b9;\n",
       "  color: #000000;\n",
       "}\n",
       "#T_5ab10_row2_col12 {\n",
       "  background-color: #289cc1;\n",
       "  color: #f1f1f1;\n",
       "}\n",
       "#T_5ab10_row2_col13 {\n",
       "  background-color: #234da0;\n",
       "  color: #f1f1f1;\n",
       "}\n",
       "#T_5ab10_row2_col14 {\n",
       "  background-color: #2ca1c2;\n",
       "  color: #f1f1f1;\n",
       "}\n",
       "#T_5ab10_row2_col15 {\n",
       "  background-color: #4cbac2;\n",
       "  color: #f1f1f1;\n",
       "}\n",
       "#T_5ab10_row3_col0 {\n",
       "  background-color: #d5efb3;\n",
       "  color: #000000;\n",
       "}\n",
       "#T_5ab10_row3_col1 {\n",
       "  background-color: #f8fcc9;\n",
       "  color: #000000;\n",
       "}\n",
       "#T_5ab10_row3_col2 {\n",
       "  background-color: #feffd8;\n",
       "  color: #000000;\n",
       "}\n",
       "#T_5ab10_row3_col4 {\n",
       "  background-color: #f4fbc1;\n",
       "  color: #000000;\n",
       "}\n",
       "#T_5ab10_row3_col7 {\n",
       "  background-color: #edf8b1;\n",
       "  color: #000000;\n",
       "}\n",
       "#T_5ab10_row3_col15 {\n",
       "  background-color: #fafdcf;\n",
       "  color: #000000;\n",
       "}\n",
       "</style>\n",
       "<table id=\"T_5ab10_\">\n",
       "  <thead>\n",
       "    <tr>\n",
       "      <th class=\"blank\" >&nbsp;</th>\n",
       "      <th class=\"index_name level0\" >SibSp</th>\n",
       "      <th class=\"col_heading level0 col0\" colspan=\"3\">0</th>\n",
       "      <th class=\"col_heading level0 col3\" colspan=\"3\">1</th>\n",
       "      <th class=\"col_heading level0 col6\" colspan=\"3\">2</th>\n",
       "      <th class=\"col_heading level0 col9\" colspan=\"3\">3</th>\n",
       "      <th class=\"col_heading level0 col12\" >4</th>\n",
       "      <th class=\"col_heading level0 col13\" >5</th>\n",
       "      <th class=\"col_heading level0 col14\" >8</th>\n",
       "      <th class=\"col_heading level0 col15\" >All</th>\n",
       "    </tr>\n",
       "    <tr>\n",
       "      <th class=\"blank\" >&nbsp;</th>\n",
       "      <th class=\"index_name level1\" >Pclass</th>\n",
       "      <th class=\"col_heading level1 col0\" >1</th>\n",
       "      <th class=\"col_heading level1 col1\" >2</th>\n",
       "      <th class=\"col_heading level1 col2\" >3</th>\n",
       "      <th class=\"col_heading level1 col3\" >1</th>\n",
       "      <th class=\"col_heading level1 col4\" >2</th>\n",
       "      <th class=\"col_heading level1 col5\" >3</th>\n",
       "      <th class=\"col_heading level1 col6\" >1</th>\n",
       "      <th class=\"col_heading level1 col7\" >2</th>\n",
       "      <th class=\"col_heading level1 col8\" >3</th>\n",
       "      <th class=\"col_heading level1 col9\" >1</th>\n",
       "      <th class=\"col_heading level1 col10\" >2</th>\n",
       "      <th class=\"col_heading level1 col11\" >3</th>\n",
       "      <th class=\"col_heading level1 col12\" >3</th>\n",
       "      <th class=\"col_heading level1 col13\" >3</th>\n",
       "      <th class=\"col_heading level1 col14\" >3</th>\n",
       "      <th class=\"col_heading level1 col15\" ></th>\n",
       "    </tr>\n",
       "    <tr>\n",
       "      <th class=\"index_name level0\" >Sex</th>\n",
       "      <th class=\"index_name level1\" >Survived</th>\n",
       "      <th class=\"blank col0\" >&nbsp;</th>\n",
       "      <th class=\"blank col1\" >&nbsp;</th>\n",
       "      <th class=\"blank col2\" >&nbsp;</th>\n",
       "      <th class=\"blank col3\" >&nbsp;</th>\n",
       "      <th class=\"blank col4\" >&nbsp;</th>\n",
       "      <th class=\"blank col5\" >&nbsp;</th>\n",
       "      <th class=\"blank col6\" >&nbsp;</th>\n",
       "      <th class=\"blank col7\" >&nbsp;</th>\n",
       "      <th class=\"blank col8\" >&nbsp;</th>\n",
       "      <th class=\"blank col9\" >&nbsp;</th>\n",
       "      <th class=\"blank col10\" >&nbsp;</th>\n",
       "      <th class=\"blank col11\" >&nbsp;</th>\n",
       "      <th class=\"blank col12\" >&nbsp;</th>\n",
       "      <th class=\"blank col13\" >&nbsp;</th>\n",
       "      <th class=\"blank col14\" >&nbsp;</th>\n",
       "      <th class=\"blank col15\" >&nbsp;</th>\n",
       "    </tr>\n",
       "  </thead>\n",
       "  <tbody>\n",
       "    <tr>\n",
       "      <th id=\"T_5ab10_level0_row0\" class=\"row_heading level0 row0\" rowspan=\"2\">female</th>\n",
       "      <th id=\"T_5ab10_level1_row0\" class=\"row_heading level1 row0\" >0</th>\n",
       "      <td id=\"T_5ab10_row0_col0\" class=\"data row0 col0\" >1</td>\n",
       "      <td id=\"T_5ab10_row0_col1\" class=\"data row0 col1\" >3</td>\n",
       "      <td id=\"T_5ab10_row0_col2\" class=\"data row0 col2\" >33</td>\n",
       "      <td id=\"T_5ab10_row0_col3\" class=\"data row0 col3\" >2</td>\n",
       "      <td id=\"T_5ab10_row0_col4\" class=\"data row0 col4\" >3</td>\n",
       "      <td id=\"T_5ab10_row0_col5\" class=\"data row0 col5\" >21</td>\n",
       "      <td id=\"T_5ab10_row0_col6\" class=\"data row0 col6\" >0</td>\n",
       "      <td id=\"T_5ab10_row0_col7\" class=\"data row0 col7\" >0</td>\n",
       "      <td id=\"T_5ab10_row0_col8\" class=\"data row0 col8\" >3</td>\n",
       "      <td id=\"T_5ab10_row0_col9\" class=\"data row0 col9\" >0</td>\n",
       "      <td id=\"T_5ab10_row0_col10\" class=\"data row0 col10\" >0</td>\n",
       "      <td id=\"T_5ab10_row0_col11\" class=\"data row0 col11\" >7</td>\n",
       "      <td id=\"T_5ab10_row0_col12\" class=\"data row0 col12\" >4</td>\n",
       "      <td id=\"T_5ab10_row0_col13\" class=\"data row0 col13\" >1</td>\n",
       "      <td id=\"T_5ab10_row0_col14\" class=\"data row0 col14\" >3</td>\n",
       "      <td id=\"T_5ab10_row0_col15\" class=\"data row0 col15\" >81</td>\n",
       "    </tr>\n",
       "    <tr>\n",
       "      <th id=\"T_5ab10_level1_row1\" class=\"row_heading level1 row1\" >1</th>\n",
       "      <td id=\"T_5ab10_row1_col0\" class=\"data row1 col0\" >48</td>\n",
       "      <td id=\"T_5ab10_row1_col1\" class=\"data row1 col1\" >41</td>\n",
       "      <td id=\"T_5ab10_row1_col2\" class=\"data row1 col2\" >48</td>\n",
       "      <td id=\"T_5ab10_row1_col3\" class=\"data row1 col3\" >38</td>\n",
       "      <td id=\"T_5ab10_row1_col4\" class=\"data row1 col4\" >25</td>\n",
       "      <td id=\"T_5ab10_row1_col5\" class=\"data row1 col5\" >17</td>\n",
       "      <td id=\"T_5ab10_row1_col6\" class=\"data row1 col6\" >3</td>\n",
       "      <td id=\"T_5ab10_row1_col7\" class=\"data row1 col7\" >3</td>\n",
       "      <td id=\"T_5ab10_row1_col8\" class=\"data row1 col8\" >4</td>\n",
       "      <td id=\"T_5ab10_row1_col9\" class=\"data row1 col9\" >2</td>\n",
       "      <td id=\"T_5ab10_row1_col10\" class=\"data row1 col10\" >1</td>\n",
       "      <td id=\"T_5ab10_row1_col11\" class=\"data row1 col11\" >1</td>\n",
       "      <td id=\"T_5ab10_row1_col12\" class=\"data row1 col12\" >2</td>\n",
       "      <td id=\"T_5ab10_row1_col13\" class=\"data row1 col13\" >0</td>\n",
       "      <td id=\"T_5ab10_row1_col14\" class=\"data row1 col14\" >0</td>\n",
       "      <td id=\"T_5ab10_row1_col15\" class=\"data row1 col15\" >233</td>\n",
       "    </tr>\n",
       "    <tr>\n",
       "      <th id=\"T_5ab10_level0_row2\" class=\"row_heading level0 row2\" rowspan=\"2\">male</th>\n",
       "      <th id=\"T_5ab10_level1_row2\" class=\"row_heading level1 row2\" >0</th>\n",
       "      <td id=\"T_5ab10_row2_col0\" class=\"data row2 col0\" >59</td>\n",
       "      <td id=\"T_5ab10_row2_col1\" class=\"data row2 col1\" >67</td>\n",
       "      <td id=\"T_5ab10_row2_col2\" class=\"data row2 col2\" >235</td>\n",
       "      <td id=\"T_5ab10_row2_col3\" class=\"data row2 col3\" >16</td>\n",
       "      <td id=\"T_5ab10_row2_col4\" class=\"data row2 col4\" >20</td>\n",
       "      <td id=\"T_5ab10_row2_col5\" class=\"data row2 col5\" >35</td>\n",
       "      <td id=\"T_5ab10_row2_col6\" class=\"data row2 col6\" >1</td>\n",
       "      <td id=\"T_5ab10_row2_col7\" class=\"data row2 col7\" >4</td>\n",
       "      <td id=\"T_5ab10_row2_col8\" class=\"data row2 col8\" >7</td>\n",
       "      <td id=\"T_5ab10_row2_col9\" class=\"data row2 col9\" >1</td>\n",
       "      <td id=\"T_5ab10_row2_col10\" class=\"data row2 col10\" >0</td>\n",
       "      <td id=\"T_5ab10_row2_col11\" class=\"data row2 col11\" >4</td>\n",
       "      <td id=\"T_5ab10_row2_col12\" class=\"data row2 col12\" >11</td>\n",
       "      <td id=\"T_5ab10_row2_col13\" class=\"data row2 col13\" >4</td>\n",
       "      <td id=\"T_5ab10_row2_col14\" class=\"data row2 col14\" >4</td>\n",
       "      <td id=\"T_5ab10_row2_col15\" class=\"data row2 col15\" >468</td>\n",
       "    </tr>\n",
       "    <tr>\n",
       "      <th id=\"T_5ab10_level1_row3\" class=\"row_heading level1 row3\" >1</th>\n",
       "      <td id=\"T_5ab10_row3_col0\" class=\"data row3 col0\" >29</td>\n",
       "      <td id=\"T_5ab10_row3_col1\" class=\"data row3 col1\" >9</td>\n",
       "      <td id=\"T_5ab10_row3_col2\" class=\"data row3 col2\" >35</td>\n",
       "      <td id=\"T_5ab10_row3_col3\" class=\"data row3 col3\" >15</td>\n",
       "      <td id=\"T_5ab10_row3_col4\" class=\"data row3 col4\" >7</td>\n",
       "      <td id=\"T_5ab10_row3_col5\" class=\"data row3 col5\" >10</td>\n",
       "      <td id=\"T_5ab10_row3_col6\" class=\"data row3 col6\" >1</td>\n",
       "      <td id=\"T_5ab10_row3_col7\" class=\"data row3 col7\" >1</td>\n",
       "      <td id=\"T_5ab10_row3_col8\" class=\"data row3 col8\" >1</td>\n",
       "      <td id=\"T_5ab10_row3_col9\" class=\"data row3 col9\" >0</td>\n",
       "      <td id=\"T_5ab10_row3_col10\" class=\"data row3 col10\" >0</td>\n",
       "      <td id=\"T_5ab10_row3_col11\" class=\"data row3 col11\" >0</td>\n",
       "      <td id=\"T_5ab10_row3_col12\" class=\"data row3 col12\" >1</td>\n",
       "      <td id=\"T_5ab10_row3_col13\" class=\"data row3 col13\" >0</td>\n",
       "      <td id=\"T_5ab10_row3_col14\" class=\"data row3 col14\" >0</td>\n",
       "      <td id=\"T_5ab10_row3_col15\" class=\"data row3 col15\" >109</td>\n",
       "    </tr>\n",
       "    <tr>\n",
       "      <th id=\"T_5ab10_level0_row4\" class=\"row_heading level0 row4\" >All</th>\n",
       "      <th id=\"T_5ab10_level1_row4\" class=\"row_heading level1 row4\" ></th>\n",
       "      <td id=\"T_5ab10_row4_col0\" class=\"data row4 col0\" >137</td>\n",
       "      <td id=\"T_5ab10_row4_col1\" class=\"data row4 col1\" >120</td>\n",
       "      <td id=\"T_5ab10_row4_col2\" class=\"data row4 col2\" >351</td>\n",
       "      <td id=\"T_5ab10_row4_col3\" class=\"data row4 col3\" >71</td>\n",
       "      <td id=\"T_5ab10_row4_col4\" class=\"data row4 col4\" >55</td>\n",
       "      <td id=\"T_5ab10_row4_col5\" class=\"data row4 col5\" >83</td>\n",
       "      <td id=\"T_5ab10_row4_col6\" class=\"data row4 col6\" >5</td>\n",
       "      <td id=\"T_5ab10_row4_col7\" class=\"data row4 col7\" >8</td>\n",
       "      <td id=\"T_5ab10_row4_col8\" class=\"data row4 col8\" >15</td>\n",
       "      <td id=\"T_5ab10_row4_col9\" class=\"data row4 col9\" >3</td>\n",
       "      <td id=\"T_5ab10_row4_col10\" class=\"data row4 col10\" >1</td>\n",
       "      <td id=\"T_5ab10_row4_col11\" class=\"data row4 col11\" >12</td>\n",
       "      <td id=\"T_5ab10_row4_col12\" class=\"data row4 col12\" >18</td>\n",
       "      <td id=\"T_5ab10_row4_col13\" class=\"data row4 col13\" >5</td>\n",
       "      <td id=\"T_5ab10_row4_col14\" class=\"data row4 col14\" >7</td>\n",
       "      <td id=\"T_5ab10_row4_col15\" class=\"data row4 col15\" >891</td>\n",
       "    </tr>\n",
       "  </tbody>\n",
       "</table>\n"
      ],
      "text/plain": [
       "<pandas.io.formats.style.Styler at 0x14141ad10>"
      ]
     },
     "execution_count": 67,
     "metadata": {},
     "output_type": "execute_result"
    }
   ],
   "source": [
    "pd.crosstab([df_train.Sex, df_train.Survived], [df_train.SibSp, df_train.Pclass], margins=True).style.background_gradient(cmap='YlGnBu')"
   ]
  },
  {
   "cell_type": "code",
   "execution_count": 68,
   "metadata": {},
   "outputs": [
    {
     "data": {
      "image/png": "[encoded data removed]",
      "text/plain": [
       "<Figure size 1080x720 with 6 Axes>"
      ]
     },
     "metadata": {
      "needs_background": "light"
     },
     "output_type": "display_data"
    }
   ],
   "source": [
    "sns.catplot('Parch','Survived', col='Pclass' , row = 'Sex', kind='point', data=df_train);\n"
   ]
  },
  {
   "cell_type": "code",
   "execution_count": 69,
   "metadata": {},
   "outputs": [
    {
     "data": {
      "text/plain": [
       "<seaborn.axisgrid.FacetGrid at 0x1424544c0>"
      ]
     },
     "execution_count": 69,
     "metadata": {},
     "output_type": "execute_result"
    },
    {
     "data": {
      "image/png": "[encoded data removed]",
      "text/plain": [
       "<Figure size 360x360 with 1 Axes>"
      ]
     },
     "metadata": {
      "needs_background": "light"
     },
     "output_type": "display_data"
    }
   ],
   "source": [
    "sns.displot(df_train['Fare'])"
   ]
  },
  {
   "cell_type": "code",
   "execution_count": 73,
   "metadata": {},
   "outputs": [
    {
     "data": {
      "image/png": "[encoded data removed]",
      "text/plain": [
       "<Figure size 1080x720 with 6 Axes>"
      ]
     },
     "metadata": {
      "needs_background": "light"
     },
     "output_type": "display_data"
    }
   ],
   "source": [
    "fare_bin_= 50\n",
    "df_train['Fare_bin'] = df_train.loc[df_train['Fare'].isna()==False, 'Fare'].apply(lambda fare: int(fare // fare_bin_))\n",
    "sns.catplot('Fare_bin','Survived', col='Pclass' , row = 'Sex', kind='point', data=df_train);"
   ]
  },
  {
   "cell_type": "code",
   "execution_count": 83,
   "metadata": {},
   "outputs": [],
   "source": [
    "df_train['Relatives'] = df_train['SibSp'] + df_train['Parch']\n",
    "df_train['Alone'] = df_train['Relatives'].apply(lambda rel: not bool(rel))"
   ]
  },
  {
   "cell_type": "code",
   "execution_count": 85,
   "metadata": {},
   "outputs": [
    {
     "name": "stderr",
     "output_type": "stream",
     "text": [
      "/opt/homebrew/Caskroom/miniforge/base/envs/pytest/lib/python3.10/site-packages/seaborn/categorical.py:3717: UserWarning: The `factorplot` function has been renamed to `catplot`. The original name will be removed in a future release. Please update your code. Note that the default `kind` in `factorplot` (`'point'`) has changed `'strip'` in `catplot`.\n",
      "  warnings.warn(msg)\n"
     ]
    },
    {
     "data": {
      "text/plain": [
       "<seaborn.axisgrid.FacetGrid at 0x142bfc970>"
      ]
     },
     "execution_count": 85,
     "metadata": {},
     "output_type": "execute_result"
    },
    {
     "data": {
      "image/png": "[encoded data removed]",
      "text/plain": [
       "<Figure size 900x360 with 1 Axes>"
      ]
     },
     "metadata": {
      "needs_background": "light"
     },
     "output_type": "display_data"
    }
   ],
   "source": [
    "sns.factorplot('Relatives', 'Survived', data=df_train, aspect=2.5)"
   ]
  },
  {
   "cell_type": "code",
   "execution_count": 86,
   "metadata": {},
   "outputs": [
    {
     "data": {
      "text/html": [
       "<style type=\"text/css\">\n",
       "#T_d8644_row0_col0, #T_d8644_row0_col2, #T_d8644_row1_col1 {\n",
       "  background-color: #ffffd9;\n",
       "  color: #000000;\n",
       "}\n",
       "#T_d8644_row0_col1 {\n",
       "  background-color: #f3fabd;\n",
       "  color: #000000;\n",
       "}\n",
       "#T_d8644_row1_col0 {\n",
       "  background-color: #37acc3;\n",
       "  color: #f1f1f1;\n",
       "}\n",
       "#T_d8644_row1_col2 {\n",
       "  background-color: #92d5b9;\n",
       "  color: #000000;\n",
       "}\n",
       "#T_d8644_row2_col0, #T_d8644_row2_col1, #T_d8644_row2_col2 {\n",
       "  background-color: #081d58;\n",
       "  color: #f1f1f1;\n",
       "}\n",
       "</style>\n",
       "<table id=\"T_d8644_\">\n",
       "  <thead>\n",
       "    <tr>\n",
       "      <th class=\"index_name level0\" >Survived</th>\n",
       "      <th class=\"col_heading level0 col0\" >0</th>\n",
       "      <th class=\"col_heading level0 col1\" >1</th>\n",
       "      <th class=\"col_heading level0 col2\" >All</th>\n",
       "    </tr>\n",
       "    <tr>\n",
       "      <th class=\"index_name level0\" >Alone</th>\n",
       "      <th class=\"blank col0\" >&nbsp;</th>\n",
       "      <th class=\"blank col1\" >&nbsp;</th>\n",
       "      <th class=\"blank col2\" >&nbsp;</th>\n",
       "    </tr>\n",
       "  </thead>\n",
       "  <tbody>\n",
       "    <tr>\n",
       "      <th id=\"T_d8644_level0_row0\" class=\"row_heading level0 row0\" >False</th>\n",
       "      <td id=\"T_d8644_row0_col0\" class=\"data row0 col0\" >175</td>\n",
       "      <td id=\"T_d8644_row0_col1\" class=\"data row0 col1\" >179</td>\n",
       "      <td id=\"T_d8644_row0_col2\" class=\"data row0 col2\" >354</td>\n",
       "    </tr>\n",
       "    <tr>\n",
       "      <th id=\"T_d8644_level0_row1\" class=\"row_heading level0 row1\" >True</th>\n",
       "      <td id=\"T_d8644_row1_col0\" class=\"data row1 col0\" >374</td>\n",
       "      <td id=\"T_d8644_row1_col1\" class=\"data row1 col1\" >163</td>\n",
       "      <td id=\"T_d8644_row1_col2\" class=\"data row1 col2\" >537</td>\n",
       "    </tr>\n",
       "    <tr>\n",
       "      <th id=\"T_d8644_level0_row2\" class=\"row_heading level0 row2\" >All</th>\n",
       "      <td id=\"T_d8644_row2_col0\" class=\"data row2 col0\" >549</td>\n",
       "      <td id=\"T_d8644_row2_col1\" class=\"data row2 col1\" >342</td>\n",
       "      <td id=\"T_d8644_row2_col2\" class=\"data row2 col2\" >891</td>\n",
       "    </tr>\n",
       "  </tbody>\n",
       "</table>\n"
      ],
      "text/plain": [
       "<pandas.io.formats.style.Styler at 0x141e4ab90>"
      ]
     },
     "execution_count": 86,
     "metadata": {},
     "output_type": "execute_result"
    }
   ],
   "source": [
    "pd.crosstab(df_train['Alone'], df_train['Survived'], margins=True).style.background_gradient(cmap='YlGnBu')"
   ]
  },
  {
   "cell_type": "code",
   "execution_count": 93,
   "metadata": {},
   "outputs": [
    {
     "data": {
      "text/plain": [
       "{'A', 'B', 'C', 'D', 'E', 'F', 'G'}"
      ]
     },
     "execution_count": 93,
     "metadata": {},
     "output_type": "execute_result"
    }
   ],
   "source": [
    "set([c[0] for c in df_train['Cabin'].unique() if not isinstance(c, float)])\n",
    "set([c[0] for c in df_test['Cabin'].unique() if not isinstance(c, float)])"
   ]
  },
  {
   "cell_type": "code",
   "execution_count": 102,
   "metadata": {},
   "outputs": [
    {
     "name": "stdout",
     "output_type": "stream",
     "text": [
      "<class 'pandas.core.frame.DataFrame'>\n",
      "RangeIndex: 418 entries, 0 to 417\n",
      "Data columns (total 12 columns):\n",
      " #   Column       Non-Null Count  Dtype  \n",
      "---  ------       --------------  -----  \n",
      " 0   PassengerId  418 non-null    int64  \n",
      " 1   Pclass       418 non-null    int64  \n",
      " 2   Name         418 non-null    object \n",
      " 3   Sex          418 non-null    object \n",
      " 4   Age          332 non-null    float64\n",
      " 5   SibSp        418 non-null    int64  \n",
      " 6   Parch        418 non-null    int64  \n",
      " 7   Ticket       418 non-null    object \n",
      " 8   Fare         417 non-null    float64\n",
      " 9   Cabin        91 non-null     object \n",
      " 10  Embarked     418 non-null    object \n",
      " 11  Age_bin      332 non-null    float64\n",
      "dtypes: float64(3), int64(4), object(5)\n",
      "memory usage: 39.3+ KB\n"
     ]
    }
   ],
   "source": [
    "df_test.info()"
   ]
  },
  {
   "cell_type": "code",
   "execution_count": 99,
   "metadata": {},
   "outputs": [
    {
     "data": {
      "text/plain": [
       "array(['A/5 21171', 'PC 17599', 'STON/O2. 3101282', '113803', '373450',\n",
       "       '330877', '17463', '349909', '347742', '237736', 'PP 9549',\n",
       "       '113783', 'A/5. 2151', '347082', '350406', '248706', '382652',\n",
       "       '244373', '345763', '2649', '239865', '248698', '330923', '113788',\n",
       "       '347077', '2631', '19950', '330959', '349216', 'PC 17601',\n",
       "       'PC 17569', '335677', 'C.A. 24579', 'PC 17604', '113789', '2677',\n",
       "       'A./5. 2152', '345764', '2651', '7546', '11668', '349253',\n",
       "       'SC/Paris 2123', '330958', 'S.C./A.4. 23567', '370371', '14311',\n",
       "       '2662', '349237', '3101295', 'A/4. 39886', 'PC 17572', '2926',\n",
       "       '113509', '19947', 'C.A. 31026', '2697', 'C.A. 34651', 'CA 2144',\n",
       "       '2669', '113572', '36973', '347088', 'PC 17605', '2661',\n",
       "       'C.A. 29395', 'S.P. 3464', '3101281', '315151', 'C.A. 33111',\n",
       "       'S.O.C. 14879', '2680', '1601', '348123', '349208', '374746',\n",
       "       '248738', '364516', '345767', '345779', '330932', '113059',\n",
       "       'SO/C 14885', '3101278', 'W./C. 6608', 'SOTON/OQ 392086', '343275',\n",
       "       '343276', '347466', 'W.E.P. 5734', 'C.A. 2315', '364500', '374910',\n",
       "       'PC 17754', 'PC 17759', '231919', '244367', '349245', '349215',\n",
       "       '35281', '7540', '3101276', '349207', '343120', '312991', '349249',\n",
       "       '371110', '110465', '2665', '324669', '4136', '2627',\n",
       "       'STON/O 2. 3101294', '370369', 'PC 17558', 'A4. 54510', '27267',\n",
       "       '370372', 'C 17369', '2668', '347061', '349241',\n",
       "       'SOTON/O.Q. 3101307', 'A/5. 3337', '228414', 'C.A. 29178',\n",
       "       'SC/PARIS 2133', '11752', '7534', 'PC 17593', '2678', '347081',\n",
       "       'STON/O2. 3101279', '365222', '231945', 'C.A. 33112', '350043',\n",
       "       '230080', '244310', 'S.O.P. 1166', '113776', 'A.5. 11206',\n",
       "       'A/5. 851', 'Fa 265302', 'PC 17597', '35851', 'SOTON/OQ 392090',\n",
       "       '315037', 'CA. 2343', '371362', 'C.A. 33595', '347068', '315093',\n",
       "       '363291', '113505', 'PC 17318', '111240', 'STON/O 2. 3101280',\n",
       "       '17764', '350404', '4133', 'PC 17595', '250653', 'LINE',\n",
       "       'SC/PARIS 2131', '230136', '315153', '113767', '370365', '111428',\n",
       "       '364849', '349247', '234604', '28424', '350046', 'PC 17610',\n",
       "       '368703', '4579', '370370', '248747', '345770', '3101264', '2628',\n",
       "       'A/5 3540', '347054', '2699', '367231', '112277',\n",
       "       'SOTON/O.Q. 3101311', 'F.C.C. 13528', 'A/5 21174', '250646',\n",
       "       '367229', '35273', 'STON/O2. 3101283', '243847', '11813',\n",
       "       'W/C 14208', 'SOTON/OQ 392089', '220367', '21440', '349234',\n",
       "       '19943', 'PP 4348', 'SW/PP 751', 'A/5 21173', '236171', '347067',\n",
       "       '237442', 'C.A. 29566', 'W./C. 6609', '26707', 'C.A. 31921',\n",
       "       '28665', 'SCO/W 1585', '367230', 'W./C. 14263',\n",
       "       'STON/O 2. 3101275', '2694', '19928', '347071', '250649', '11751',\n",
       "       '244252', '362316', '113514', 'A/5. 3336', '370129', '2650',\n",
       "       'PC 17585', '110152', 'PC 17755', '230433', '384461', '110413',\n",
       "       '112059', '382649', 'C.A. 17248', '347083', 'PC 17582', 'PC 17760',\n",
       "       '113798', '250644', 'PC 17596', '370375', '13502', '347073',\n",
       "       '239853', 'C.A. 2673', '336439', '347464', '345778', 'A/5. 10482',\n",
       "       '113056', '349239', '345774', '349206', '237798', '370373',\n",
       "       '19877', '11967', 'SC/Paris 2163', '349236', '349233', 'PC 17612',\n",
       "       '2693', '113781', '19988', '9234', '367226', '226593', 'A/5 2466',\n",
       "       '17421', 'PC 17758', 'P/PP 3381', 'PC 17485', '11767', 'PC 17608',\n",
       "       '250651', '349243', 'F.C.C. 13529', '347470', '29011', '36928',\n",
       "       '16966', 'A/5 21172', '349219', '234818', '345364', '28551',\n",
       "       '111361', '113043', 'PC 17611', '349225', '7598', '113784',\n",
       "       '248740', '244361', '229236', '248733', '31418', '386525',\n",
       "       'C.A. 37671', '315088', '7267', '113510', '2695', '2647', '345783',\n",
       "       '237671', '330931', '330980', 'SC/PARIS 2167', '2691',\n",
       "       'SOTON/O.Q. 3101310', 'C 7076', '110813', '2626', '14313',\n",
       "       'PC 17477', '11765', '3101267', '323951', 'C 7077', '113503',\n",
       "       '2648', '347069', 'PC 17757', '2653', 'STON/O 2. 3101293',\n",
       "       '349227', '27849', '367655', 'SC 1748', '113760', '350034',\n",
       "       '3101277', '350052', '350407', '28403', '244278', '240929',\n",
       "       'STON/O 2. 3101289', '341826', '4137', '315096', '28664', '347064',\n",
       "       '29106', '312992', '349222', '394140', 'STON/O 2. 3101269',\n",
       "       '343095', '28220', '250652', '28228', '345773', '349254',\n",
       "       'A/5. 13032', '315082', '347080', 'A/4. 34244', '2003', '250655',\n",
       "       '364851', 'SOTON/O.Q. 392078', '110564', '376564', 'SC/AH 3085',\n",
       "       'STON/O 2. 3101274', '13507', 'C.A. 18723', '345769', '347076',\n",
       "       '230434', '65306', '33638', '113794', '2666', '113786', '65303',\n",
       "       '113051', '17453', 'A/5 2817', '349240', '13509', '17464',\n",
       "       'F.C.C. 13531', '371060', '19952', '364506', '111320', '234360',\n",
       "       'A/S 2816', 'SOTON/O.Q. 3101306', '113792', '36209', '323592',\n",
       "       '315089', 'SC/AH Basle 541', '7553', '31027', '3460', '350060',\n",
       "       '3101298', '239854', 'A/5 3594', '4134', '11771', 'A.5. 18509',\n",
       "       '65304', 'SOTON/OQ 3101317', '113787', 'PC 17609', 'A/4 45380',\n",
       "       '36947', 'C.A. 6212', '350035', '315086', '364846', '330909',\n",
       "       '4135', '26360', '111427', 'C 4001', '382651', 'SOTON/OQ 3101316',\n",
       "       'PC 17473', 'PC 17603', '349209', '36967', 'C.A. 34260', '226875',\n",
       "       '349242', '12749', '349252', '2624', '2700', '367232',\n",
       "       'W./C. 14258', 'PC 17483', '3101296', '29104', '2641', '2690',\n",
       "       '315084', '113050', 'PC 17761', '364498', '13568', 'WE/P 5735',\n",
       "       '2908', '693', 'SC/PARIS 2146', '244358', '330979', '2620',\n",
       "       '347085', '113807', '11755', '345572', '372622', '349251',\n",
       "       '218629', 'SOTON/OQ 392082', 'SOTON/O.Q. 392087', 'A/4 48871',\n",
       "       '349205', '2686', '350417', 'S.W./PP 752', '11769', 'PC 17474',\n",
       "       '14312', 'A/4. 20589', '358585', '243880', '2689',\n",
       "       'STON/O 2. 3101286', '237789', '13049', '3411', '237565', '13567',\n",
       "       '14973', 'A./5. 3235', 'STON/O 2. 3101273', 'A/5 3902', '364848',\n",
       "       'SC/AH 29037', '248727', '2664', '349214', '113796', '364511',\n",
       "       '111426', '349910', '349246', '113804', 'SOTON/O.Q. 3101305',\n",
       "       '370377', '364512', '220845', '31028', '2659', '11753', '350029',\n",
       "       '54636', '36963', '219533', '349224', '334912', '27042', '347743',\n",
       "       '13214', '112052', '237668', 'STON/O 2. 3101292', '350050',\n",
       "       '349231', '13213', 'S.O./P.P. 751', 'CA. 2314', '349221', '8475',\n",
       "       '330919', '365226', '349223', '29751', '2623', '5727', '349210',\n",
       "       'STON/O 2. 3101285', '234686', '312993', 'A/5 3536', '19996',\n",
       "       '29750', 'F.C. 12750', 'C.A. 24580', '244270', '239856', '349912',\n",
       "       '342826', '4138', '330935', '6563', '349228', '350036', '24160',\n",
       "       '17474', '349256', '2672', '113800', '248731', '363592', '35852',\n",
       "       '348121', 'PC 17475', '36864', '350025', '223596', 'PC 17476',\n",
       "       'PC 17482', '113028', '7545', '250647', '348124', '34218', '36568',\n",
       "       '347062', '350048', '12233', '250643', '113806', '315094', '36866',\n",
       "       '236853', 'STON/O2. 3101271', '239855', '28425', '233639',\n",
       "       '349201', '349218', '16988', '376566', 'STON/O 2. 3101288',\n",
       "       '250648', '113773', '335097', '29103', '392096', '345780',\n",
       "       '349204', '350042', '29108', '363294', 'SOTON/O2 3101272', '2663',\n",
       "       '347074', '112379', '364850', '8471', '345781', '350047',\n",
       "       'S.O./P.P. 3', '2674', '29105', '347078', '383121', '36865',\n",
       "       '2687', '113501', 'W./C. 6607', 'SOTON/O.Q. 3101312', '374887',\n",
       "       '3101265', '12460', 'PC 17600', '349203', '28213', '17465',\n",
       "       '349244', '2685', '2625', '347089', '347063', '112050', '347087',\n",
       "       '248723', '3474', '28206', '364499', '112058', 'STON/O2. 3101290',\n",
       "       'S.C./PARIS 2079', 'C 7075', '315098', '19972', '368323', '367228',\n",
       "       '2671', '347468', '2223', 'PC 17756', '315097', '392092', '11774',\n",
       "       'SOTON/O2 3101287', '2683', '315090', 'C.A. 5547', '349213',\n",
       "       '347060', 'PC 17592', '392091', '113055', '2629', '350026',\n",
       "       '28134', '17466', '233866', '236852', 'SC/PARIS 2149', 'PC 17590',\n",
       "       '345777', '349248', '695', '345765', '2667', '349212', '349217',\n",
       "       '349257', '7552', 'C.A./SOTON 34068', 'SOTON/OQ 392076', '211536',\n",
       "       '112053', '111369', '370376'], dtype=object)"
      ]
     },
     "execution_count": 99,
     "metadata": {},
     "output_type": "execute_result"
    }
   ],
   "source": [
    "df_train['Ticket'].unique()"
   ]
  },
  {
   "cell_type": "code",
   "execution_count": 110,
   "metadata": {},
   "outputs": [
    {
     "data": {
      "text/html": [
       "<style type=\"text/css\">\n",
       "#T_30487_row0_col0, #T_30487_row3_col0, #T_30487_row4_col0, #T_30487_row5_col2 {\n",
       "  background-color: #fdfed5;\n",
       "  color: #000000;\n",
       "}\n",
       "#T_30487_row0_col1, #T_30487_row1_col0, #T_30487_row5_col1 {\n",
       "  background-color: #fcfed3;\n",
       "  color: #000000;\n",
       "}\n",
       "#T_30487_row0_col2 {\n",
       "  background-color: #fdfed4;\n",
       "  color: #000000;\n",
       "}\n",
       "#T_30487_row1_col1, #T_30487_row2_col1 {\n",
       "  background-color: #f0f9b8;\n",
       "  color: #000000;\n",
       "}\n",
       "#T_30487_row1_col2 {\n",
       "  background-color: #f8fcc9;\n",
       "  color: #000000;\n",
       "}\n",
       "#T_30487_row2_col0 {\n",
       "  background-color: #f9fdcc;\n",
       "  color: #000000;\n",
       "}\n",
       "#T_30487_row2_col2 {\n",
       "  background-color: #f6fbc5;\n",
       "  color: #000000;\n",
       "}\n",
       "#T_30487_row3_col1 {\n",
       "  background-color: #f5fbc2;\n",
       "  color: #000000;\n",
       "}\n",
       "#T_30487_row3_col2 {\n",
       "  background-color: #fafdce;\n",
       "  color: #000000;\n",
       "}\n",
       "#T_30487_row4_col1 {\n",
       "  background-color: #f5fbc4;\n",
       "  color: #000000;\n",
       "}\n",
       "#T_30487_row4_col2 {\n",
       "  background-color: #fafdcf;\n",
       "  color: #000000;\n",
       "}\n",
       "#T_30487_row5_col0, #T_30487_row6_col1 {\n",
       "  background-color: #feffd8;\n",
       "  color: #000000;\n",
       "}\n",
       "#T_30487_row6_col0, #T_30487_row6_col2, #T_30487_row7_col0, #T_30487_row7_col1, #T_30487_row7_col2 {\n",
       "  background-color: #ffffd9;\n",
       "  color: #000000;\n",
       "}\n",
       "#T_30487_row8_col0 {\n",
       "  background-color: #243392;\n",
       "  color: #f1f1f1;\n",
       "}\n",
       "#T_30487_row8_col1 {\n",
       "  background-color: #2397c1;\n",
       "  color: #f1f1f1;\n",
       "}\n",
       "#T_30487_row8_col2 {\n",
       "  background-color: #2356a4;\n",
       "  color: #f1f1f1;\n",
       "}\n",
       "#T_30487_row9_col0, #T_30487_row9_col1, #T_30487_row9_col2 {\n",
       "  background-color: #081d58;\n",
       "  color: #f1f1f1;\n",
       "}\n",
       "</style>\n",
       "<table id=\"T_30487_\">\n",
       "  <thead>\n",
       "    <tr>\n",
       "      <th class=\"index_name level0\" >Survived</th>\n",
       "      <th class=\"col_heading level0 col0\" >0</th>\n",
       "      <th class=\"col_heading level0 col1\" >1</th>\n",
       "      <th class=\"col_heading level0 col2\" >All</th>\n",
       "    </tr>\n",
       "    <tr>\n",
       "      <th class=\"index_name level0\" >Cabin_Letter</th>\n",
       "      <th class=\"blank col0\" >&nbsp;</th>\n",
       "      <th class=\"blank col1\" >&nbsp;</th>\n",
       "      <th class=\"blank col2\" >&nbsp;</th>\n",
       "    </tr>\n",
       "  </thead>\n",
       "  <tbody>\n",
       "    <tr>\n",
       "      <th id=\"T_30487_level0_row0\" class=\"row_heading level0 row0\" >A</th>\n",
       "      <td id=\"T_30487_row0_col0\" class=\"data row0 col0\" >8</td>\n",
       "      <td id=\"T_30487_row0_col1\" class=\"data row0 col1\" >7</td>\n",
       "      <td id=\"T_30487_row0_col2\" class=\"data row0 col2\" >15</td>\n",
       "    </tr>\n",
       "    <tr>\n",
       "      <th id=\"T_30487_level0_row1\" class=\"row_heading level0 row1\" >B</th>\n",
       "      <td id=\"T_30487_row1_col0\" class=\"data row1 col0\" >12</td>\n",
       "      <td id=\"T_30487_row1_col1\" class=\"data row1 col1\" >35</td>\n",
       "      <td id=\"T_30487_row1_col2\" class=\"data row1 col2\" >47</td>\n",
       "    </tr>\n",
       "    <tr>\n",
       "      <th id=\"T_30487_level0_row2\" class=\"row_heading level0 row2\" >C</th>\n",
       "      <td id=\"T_30487_row2_col0\" class=\"data row2 col0\" >24</td>\n",
       "      <td id=\"T_30487_row2_col1\" class=\"data row2 col1\" >35</td>\n",
       "      <td id=\"T_30487_row2_col2\" class=\"data row2 col2\" >59</td>\n",
       "    </tr>\n",
       "    <tr>\n",
       "      <th id=\"T_30487_level0_row3\" class=\"row_heading level0 row3\" >D</th>\n",
       "      <td id=\"T_30487_row3_col0\" class=\"data row3 col0\" >8</td>\n",
       "      <td id=\"T_30487_row3_col1\" class=\"data row3 col1\" >25</td>\n",
       "      <td id=\"T_30487_row3_col2\" class=\"data row3 col2\" >33</td>\n",
       "    </tr>\n",
       "    <tr>\n",
       "      <th id=\"T_30487_level0_row4\" class=\"row_heading level0 row4\" >E</th>\n",
       "      <td id=\"T_30487_row4_col0\" class=\"data row4 col0\" >8</td>\n",
       "      <td id=\"T_30487_row4_col1\" class=\"data row4 col1\" >24</td>\n",
       "      <td id=\"T_30487_row4_col2\" class=\"data row4 col2\" >32</td>\n",
       "    </tr>\n",
       "    <tr>\n",
       "      <th id=\"T_30487_level0_row5\" class=\"row_heading level0 row5\" >F</th>\n",
       "      <td id=\"T_30487_row5_col0\" class=\"data row5 col0\" >5</td>\n",
       "      <td id=\"T_30487_row5_col1\" class=\"data row5 col1\" >8</td>\n",
       "      <td id=\"T_30487_row5_col2\" class=\"data row5 col2\" >13</td>\n",
       "    </tr>\n",
       "    <tr>\n",
       "      <th id=\"T_30487_level0_row6\" class=\"row_heading level0 row6\" >G</th>\n",
       "      <td id=\"T_30487_row6_col0\" class=\"data row6 col0\" >2</td>\n",
       "      <td id=\"T_30487_row6_col1\" class=\"data row6 col1\" >2</td>\n",
       "      <td id=\"T_30487_row6_col2\" class=\"data row6 col2\" >4</td>\n",
       "    </tr>\n",
       "    <tr>\n",
       "      <th id=\"T_30487_level0_row7\" class=\"row_heading level0 row7\" >T</th>\n",
       "      <td id=\"T_30487_row7_col0\" class=\"data row7 col0\" >1</td>\n",
       "      <td id=\"T_30487_row7_col1\" class=\"data row7 col1\" >0</td>\n",
       "      <td id=\"T_30487_row7_col2\" class=\"data row7 col2\" >1</td>\n",
       "    </tr>\n",
       "    <tr>\n",
       "      <th id=\"T_30487_level0_row8\" class=\"row_heading level0 row8\" >U</th>\n",
       "      <td id=\"T_30487_row8_col0\" class=\"data row8 col0\" >481</td>\n",
       "      <td id=\"T_30487_row8_col1\" class=\"data row8 col1\" >206</td>\n",
       "      <td id=\"T_30487_row8_col2\" class=\"data row8 col2\" >687</td>\n",
       "    </tr>\n",
       "    <tr>\n",
       "      <th id=\"T_30487_level0_row9\" class=\"row_heading level0 row9\" >All</th>\n",
       "      <td id=\"T_30487_row9_col0\" class=\"data row9 col0\" >549</td>\n",
       "      <td id=\"T_30487_row9_col1\" class=\"data row9 col1\" >342</td>\n",
       "      <td id=\"T_30487_row9_col2\" class=\"data row9 col2\" >891</td>\n",
       "    </tr>\n",
       "  </tbody>\n",
       "</table>\n"
      ],
      "text/plain": [
       "<pandas.io.formats.style.Styler at 0x14250cd90>"
      ]
     },
     "execution_count": 110,
     "metadata": {},
     "output_type": "execute_result"
    }
   ],
   "source": [
    "df_train['Cabin_Letter'] = df_train['Cabin'].apply(lambda c: c[0] if not isinstance(c, float) else np.nan)\n",
    "df_train.loc[df_train['Cabin'].isna(), 'Cabin_Letter'] = 'U'\n",
    "pd.crosstab(df_train['Cabin_Letter'], df_train['Survived'], margins=True).style.background_gradient(cmap='YlGnBu')"
   ]
  },
  {
   "cell_type": "code",
   "execution_count": 116,
   "metadata": {},
   "outputs": [
    {
     "name": "stdout",
     "output_type": "stream",
     "text": [
      "| Cabin_Letter   |   Survived |\n",
      "|:---------------|-----------:|\n",
      "| A              |   0.466667 |\n",
      "| B              |   0.744681 |\n",
      "| C              |   0.59322  |\n",
      "| D              |   0.757576 |\n",
      "| E              |   0.75     |\n",
      "| F              |   0.615385 |\n",
      "| G              |   0.5      |\n",
      "| T              |   0        |\n",
      "| U              |   0.299854 |\n"
     ]
    }
   ],
   "source": [
    "print(df_train.groupby('Cabin_Letter').agg({'Survived': 'mean'}).to_markdown())"
   ]
  },
  {
   "cell_type": "code",
   "execution_count": 111,
   "metadata": {},
   "outputs": [
    {
     "data": {
      "text/plain": [
       "<seaborn.axisgrid.FacetGrid at 0x1427ca950>"
      ]
     },
     "execution_count": 111,
     "metadata": {},
     "output_type": "execute_result"
    },
    {
     "data": {
      "image/png": "[encoded data removed]",
      "text/plain": [
       "<Figure size 900x360 with 1 Axes>"
      ]
     },
     "metadata": {
      "needs_background": "light"
     },
     "output_type": "display_data"
    }
   ],
   "source": [
    "sns.catplot('Cabin_Letter', 'Survived', data=df_train, kind='point', aspect=2.5)"
   ]
  },
  {
   "cell_type": "code",
   "execution_count": 123,
   "metadata": {},
   "outputs": [
    {
     "data": {
      "text/plain": [
       "array(['A/5', 'PC', 'STON/O2.', 'PP', 'A/5.', 'C.A.', 'A./5.', 'SC/Paris',\n",
       "       'S.C./A.4.', 'A/4.', 'CA', 'S.P.', 'S.O.C.', 'SO/C', 'W./C.',\n",
       "       'SOTON/OQ', 'W.E.P.', 'STON/O', 'A4.', 'C', 'SOTON/O.Q.',\n",
       "       'SC/PARIS', 'S.O.P.', 'A.5.', 'Fa', 'CA.', 'LINE', 'F.C.C.', 'W/C',\n",
       "       'SW/PP', 'SCO/W', 'P/PP', 'SC', 'SC/AH', 'A/S', 'A/4', 'WE/P',\n",
       "       'S.W./PP', 'S.O./P.P.', 'F.C.', 'SOTON/O2', 'S.C./PARIS',\n",
       "       'C.A./SOTON'], dtype=object)"
      ]
     },
     "execution_count": 123,
     "metadata": {},
     "output_type": "execute_result"
    }
   ],
   "source": [
    "import re\n",
    "df_train.loc[df_train['Ticket'].str.contains(r'[a-zA-Z]'), 'Ticket'].apply(lambda t: t.split()[0]).unique()"
   ]
  },
  {
   "cell_type": "code",
   "execution_count": 163,
   "metadata": {},
   "outputs": [],
   "source": [
    "df_train['Ticket_str'] = df_train['Ticket'].str.contains(r'[a-zA-Z]')"
   ]
  },
  {
   "cell_type": "code",
   "execution_count": 164,
   "metadata": {},
   "outputs": [
    {
     "data": {
      "text/html": [
       "<style type=\"text/css\">\n",
       "#T_9fb14_row0_col0, #T_9fb14_row0_col2 {\n",
       "  background-color: #1e86bb;\n",
       "  color: #f1f1f1;\n",
       "}\n",
       "#T_9fb14_row0_col1 {\n",
       "  background-color: #1e85ba;\n",
       "  color: #f1f1f1;\n",
       "}\n",
       "#T_9fb14_row1_col0, #T_9fb14_row1_col1, #T_9fb14_row1_col2 {\n",
       "  background-color: #ffffd9;\n",
       "  color: #000000;\n",
       "}\n",
       "#T_9fb14_row2_col0, #T_9fb14_row2_col1, #T_9fb14_row2_col2 {\n",
       "  background-color: #081d58;\n",
       "  color: #f1f1f1;\n",
       "}\n",
       "</style>\n",
       "<table id=\"T_9fb14_\">\n",
       "  <thead>\n",
       "    <tr>\n",
       "      <th class=\"index_name level0\" >Survived</th>\n",
       "      <th class=\"col_heading level0 col0\" >0</th>\n",
       "      <th class=\"col_heading level0 col1\" >1</th>\n",
       "      <th class=\"col_heading level0 col2\" >All</th>\n",
       "    </tr>\n",
       "    <tr>\n",
       "      <th class=\"index_name level0\" >Ticket_str</th>\n",
       "      <th class=\"blank col0\" >&nbsp;</th>\n",
       "      <th class=\"blank col1\" >&nbsp;</th>\n",
       "      <th class=\"blank col2\" >&nbsp;</th>\n",
       "    </tr>\n",
       "  </thead>\n",
       "  <tbody>\n",
       "    <tr>\n",
       "      <th id=\"T_9fb14_level0_row0\" class=\"row_heading level0 row0\" >False</th>\n",
       "      <td id=\"T_9fb14_row0_col0\" class=\"data row0 col0\" >407</td>\n",
       "      <td id=\"T_9fb14_row0_col1\" class=\"data row0 col1\" >254</td>\n",
       "      <td id=\"T_9fb14_row0_col2\" class=\"data row0 col2\" >661</td>\n",
       "    </tr>\n",
       "    <tr>\n",
       "      <th id=\"T_9fb14_level0_row1\" class=\"row_heading level0 row1\" >True</th>\n",
       "      <td id=\"T_9fb14_row1_col0\" class=\"data row1 col0\" >142</td>\n",
       "      <td id=\"T_9fb14_row1_col1\" class=\"data row1 col1\" >88</td>\n",
       "      <td id=\"T_9fb14_row1_col2\" class=\"data row1 col2\" >230</td>\n",
       "    </tr>\n",
       "    <tr>\n",
       "      <th id=\"T_9fb14_level0_row2\" class=\"row_heading level0 row2\" >All</th>\n",
       "      <td id=\"T_9fb14_row2_col0\" class=\"data row2 col0\" >549</td>\n",
       "      <td id=\"T_9fb14_row2_col1\" class=\"data row2 col1\" >342</td>\n",
       "      <td id=\"T_9fb14_row2_col2\" class=\"data row2 col2\" >891</td>\n",
       "    </tr>\n",
       "  </tbody>\n",
       "</table>\n"
      ],
      "text/plain": [
       "<pandas.io.formats.style.Styler at 0x14242b5e0>"
      ]
     },
     "execution_count": 164,
     "metadata": {},
     "output_type": "execute_result"
    }
   ],
   "source": [
    "pd.crosstab(df_train['Ticket_str'], df_train['Survived'], margins=True).style.background_gradient(cmap='YlGnBu')"
   ]
  },
  {
   "cell_type": "code",
   "execution_count": 168,
   "metadata": {},
   "outputs": [
    {
     "data": {
      "text/html": [
       "<div>\n",
       "<style scoped>\n",
       "    .dataframe tbody tr th:only-of-type {\n",
       "        vertical-align: middle;\n",
       "    }\n",
       "\n",
       "    .dataframe tbody tr th {\n",
       "        vertical-align: top;\n",
       "    }\n",
       "\n",
       "    .dataframe thead th {\n",
       "        text-align: right;\n",
       "    }\n",
       "</style>\n",
       "<table border=\"1\" class=\"dataframe\">\n",
       "  <thead>\n",
       "    <tr style=\"text-align: right;\">\n",
       "      <th></th>\n",
       "      <th>Survived</th>\n",
       "    </tr>\n",
       "    <tr>\n",
       "      <th>Ticket_str</th>\n",
       "      <th></th>\n",
       "    </tr>\n",
       "  </thead>\n",
       "  <tbody>\n",
       "    <tr>\n",
       "      <th>False</th>\n",
       "      <td>0.384266</td>\n",
       "    </tr>\n",
       "    <tr>\n",
       "      <th>True</th>\n",
       "      <td>0.382609</td>\n",
       "    </tr>\n",
       "  </tbody>\n",
       "</table>\n",
       "</div>"
      ],
      "text/plain": [
       "            Survived\n",
       "Ticket_str          \n",
       "False       0.384266\n",
       "True        0.382609"
      ]
     },
     "execution_count": 168,
     "metadata": {},
     "output_type": "execute_result"
    }
   ],
   "source": [
    "df_train.groupby('Ticket_str').agg({'Survived': 'mean'})"
   ]
  },
  {
   "cell_type": "code",
   "execution_count": 191,
   "metadata": {},
   "outputs": [
    {
     "data": {
      "text/plain": [
       "<seaborn.axisgrid.FacetGrid at 0x1426e5780>"
      ]
     },
     "execution_count": 191,
     "metadata": {},
     "output_type": "execute_result"
    },
    {
     "data": {
      "image/png": "[encoded data removed]",
      "text/plain": [
       "<Figure size 790.5x360 with 2 Axes>"
      ]
     },
     "metadata": {
      "needs_background": "light"
     },
     "output_type": "display_data"
    }
   ],
   "source": [
    "sns.catplot('Pclass', 'Age', col='Alone', hue='Sex', kind='point', data=df_train)"
   ]
  },
  {
   "cell_type": "code",
   "execution_count": 237,
   "metadata": {},
   "outputs": [],
   "source": [
    "df_train['Age'] = df_train['Age'].fillna(df_train.groupby(['Alone', 'Sex', 'Pclass'])['Age'].transform('mean'))"
   ]
  },
  {
   "cell_type": "code",
   "execution_count": 334,
   "metadata": {},
   "outputs": [],
   "source": [
    "words = [i for n in df_train['Name'].values for i in n.split()]\n",
    "w_cnt = {w: words.count(w) for w in words if words.count(w) > 5}\n",
    "w_cnt_sort = sorted(w_cnt.items(), key=lambda x: x[1], reverse=True)[:10]\n",
    "w_survived = {w[0]: df_train.loc[df_train['Name'].str.contains(w[0]), 'Survived'].mean() for w in w_cnt_sort}\n",
    "title = ['Mr', 'Miss', 'Mrs', 'Master']\n",
    "df_train['Title'] = np.nan\n",
    "for t in title:\n",
    "    df_train.loc[df_train['Name'].str.contains(t), 'Title'] = t\n",
    "df_train['Title'] = df_train['Title'].fillna('Unknown')\n"
   ]
  },
  {
   "cell_type": "code",
   "execution_count": 338,
   "metadata": {},
   "outputs": [
    {
     "data": {
      "text/plain": [
       "<seaborn.axisgrid.FacetGrid at 0x1434322c0>"
      ]
     },
     "execution_count": 338,
     "metadata": {},
     "output_type": "execute_result"
    },
    {
     "data": {
      "image/png": "[encoded data removed]",
      "text/plain": [
       "<Figure size 900x360 with 1 Axes>"
      ]
     },
     "metadata": {
      "needs_background": "light"
     },
     "output_type": "display_data"
    }
   ],
   "source": [
    "sns.catplot('Title', 'Survived', data=df_train, kind='point', aspect=2.5)"
   ]
  },
  {
   "cell_type": "code",
   "execution_count": 246,
   "metadata": {},
   "outputs": [
    {
     "name": "stdout",
     "output_type": "stream",
     "text": [
      "The autoreload extension is already loaded. To reload it, use:\n",
      "  %reload_ext autoreload\n"
     ]
    }
   ],
   "source": [
    "%load_ext autoreload\n",
    "%autoreload 2"
   ]
  },
  {
   "cell_type": "code",
   "execution_count": 252,
   "metadata": {},
   "outputs": [],
   "source": [
    "from src.model import ModelPredictbySex "
   ]
  },
  {
   "cell_type": "code",
   "execution_count": 254,
   "metadata": {},
   "outputs": [],
   "source": [
    "from src.preprocess import preprocess"
   ]
  },
  {
   "cell_type": "code",
   "execution_count": 256,
   "metadata": {},
   "outputs": [],
   "source": [
    "dataset = list(map(preprocess, load_dataset()))"
   ]
  },
  {
   "cell_type": "code",
   "execution_count": 344,
   "metadata": {},
   "outputs": [],
   "source": [
    "df = preprocess(load_dataset()[0])\n"
   ]
  },
  {
   "cell_type": "code",
   "execution_count": 347,
   "metadata": {},
   "outputs": [],
   "source": [
    "from sklearn.model_selection import train_test_split"
   ]
  },
  {
   "cell_type": "code",
   "execution_count": 350,
   "metadata": {},
   "outputs": [],
   "source": [
    "from src.model import ModelPredictbySex\n",
    "model = ModelPredictbySex()"
   ]
  },
  {
   "cell_type": "code",
   "execution_count": 353,
   "metadata": {},
   "outputs": [],
   "source": [
    "y_pred = [model.predict(s) for s in df['Sex'].values]"
   ]
  },
  {
   "cell_type": "code",
   "execution_count": 357,
   "metadata": {},
   "outputs": [],
   "source": [
    "smp = next(zip(df['Sex'], df['Embarked'], df['Pclass']))"
   ]
  },
  {
   "cell_type": "code",
   "execution_count": 358,
   "metadata": {},
   "outputs": [],
   "source": [
    "from src.model import ModelSexPclassEmbarked\n",
    "model = ModelSexPclassEmbarked()"
   ]
  },
  {
   "cell_type": "code",
   "execution_count": 435,
   "metadata": {},
   "outputs": [],
   "source": [
    "from sklearn.impute import SimpleImputer\n",
    "from sklearn.preprocessing import LabelEncoder, RobustScaler, OneHotEncoder\n",
    "from sklearn.pipeline import Pipeline\n",
    "from sklearn.compose import ColumnTransformer\n",
    "from sklearn.linear_model import LogisticRegression\n",
    "\n",
    "\n",
    "CAT_VARS = ['Pclass', 'Sex', 'Embarked', 'Cabin', 'Alone', 'Title']\n",
    "NUM_VARS = ['Age', 'SibSp', 'Parch', 'Fare']"
   ]
  },
  {
   "cell_type": "code",
   "execution_count": 396,
   "metadata": {},
   "outputs": [],
   "source": [
    "num_transformer = Pipeline(steps=[(\"imputer\", SimpleImputer(strategy=\"median\")),\n",
    "                                    (\"scaler\", RobustScaler())]\n",
    "                    )\n",
    "cat_transformer = Pipeline(steps=[(\"imputer\", SimpleImputer(strategy=\"most_frequent\")),\n",
    "                                    (\"encoder\", OneHotEncoder()),]\n",
    "                    )\n",
    "\n",
    "pipeline = ColumnTransformer(\n",
    "    transformers=[\n",
    "        ('num', num_transformer, NUM_VARS),\n",
    "        ('cat', cat_transformer, CAT_VARS)\n",
    "    ]\n",
    ")"
   ]
  },
  {
   "cell_type": "code",
   "execution_count": 399,
   "metadata": {},
   "outputs": [],
   "source": [
    "df_tf = pipeline.fit_transform(df)"
   ]
  },
  {
   "cell_type": "code",
   "execution_count": 408,
   "metadata": {},
   "outputs": [
    {
     "data": {
      "text/plain": [
       "array([2, 3, 1, 3, 2, 2, 2, 0, 3, 3, 1, 1, 2, 2, 1, 3, 0, 2, 3, 3, 2, 2,\n",
       "       1, 2, 1, 3, 2, 2, 1, 2, 2, 3, 1, 2, 2, 2, 2, 2, 1, 1, 3, 3, 2, 1,\n",
       "       1, 2, 2, 1, 2, 3, 0, 2, 3, 3, 2, 2, 1, 2, 1, 0, 2, 1, 2, 0, 2, 0,\n",
       "       3, 2, 1, 2, 2, 1, 2, 2, 2, 2, 2, 2, 0, 1, 2, 2, 1, 2, 1, 3, 2, 2,\n",
       "       1, 2, 2, 2, 2, 2, 2, 2, 2, 2, 3, 2, 1, 2, 2, 2, 2, 2, 1, 2, 2, 1,\n",
       "       2, 1, 2, 1, 1, 2, 2, 2, 2, 1, 2, 2, 2, 1, 2, 0, 2, 2, 1, 2, 2, 2,\n",
       "       3, 3, 2, 2, 1, 2, 2, 2, 3, 1, 3, 2, 2, 2, 2, 1, 2, 2, 2, 3, 2, 2,\n",
       "       2, 2, 1, 2, 2, 0, 2, 3, 2, 2, 0, 0, 3, 3, 2, 2, 2, 0, 1, 2, 2, 2,\n",
       "       0, 1, 2, 2, 1, 2, 0, 0, 1, 2, 3, 2, 2, 2, 3, 2, 1, 0, 3, 1, 2, 2,\n",
       "       1, 3, 2, 2, 2, 2, 2, 1, 2, 2, 1, 2, 2, 1, 2, 2, 2, 1, 1, 2, 1, 2,\n",
       "       2, 2, 2, 2, 2, 2, 2, 2, 2, 1, 3, 2, 2, 1, 2, 1, 2, 1, 2, 2, 1, 1,\n",
       "       2, 2, 2, 2, 1, 3, 2, 2, 2, 3, 2, 2, 3, 3, 3, 1, 1, 3, 2, 0, 2, 2,\n",
       "       1, 2, 2, 2, 3, 1, 2, 2, 3, 2, 1, 1, 1, 2, 0, 3, 2, 2, 2, 2, 2, 2,\n",
       "       2, 2, 2, 1, 1, 3, 2, 1, 2, 2, 2, 1, 2, 3, 1, 2, 2, 1, 2, 0, 1, 3,\n",
       "       2, 1, 1, 1, 3, 2, 2, 1, 3, 2, 1, 3, 2, 2, 1, 3, 2, 1, 2, 3, 3, 1,\n",
       "       1, 2, 2, 2, 3, 2, 2, 1, 2, 2, 0, 1, 2, 2, 2, 1, 1, 3, 0, 2, 2, 2,\n",
       "       2, 2, 2, 2, 1, 1, 1, 1, 2, 2, 3, 2, 2, 2, 3, 3, 1, 2, 2, 2, 2, 2,\n",
       "       1, 3, 1, 2, 2, 2, 1, 1, 2, 3, 2, 2, 0, 1, 2, 1, 2, 2, 2, 1, 3, 2,\n",
       "       1, 2, 2, 3, 2, 2, 1, 2, 1, 2, 2, 0, 2, 1, 2, 2, 1, 2, 2, 3, 3, 1,\n",
       "       2, 1, 2, 2, 2, 3, 2, 2, 3, 3, 2, 2, 2, 3, 3, 2, 2, 1, 1, 3, 2, 2,\n",
       "       3, 2, 2, 2, 2, 0, 1, 2, 1, 2, 2, 2, 2, 2, 2, 2, 2, 3, 1, 2, 2, 2,\n",
       "       2, 2, 2, 2, 2, 2, 2, 1, 2, 2, 3, 3, 1, 2, 2, 2, 2, 1, 0, 2, 2, 3,\n",
       "       2, 1, 3, 2, 2, 0, 2, 2, 2, 2, 2, 2, 1, 2, 3, 2, 2, 1, 1, 1, 1, 2,\n",
       "       3, 2, 2, 2, 2, 2, 2, 3, 2, 2, 3, 2, 3, 2, 1, 2, 2, 3, 2, 2, 1, 2,\n",
       "       2, 2, 1, 2, 2, 3, 1, 1, 2, 1, 2, 1, 1, 1, 1, 2, 2, 2, 3, 2, 2, 0,\n",
       "       2, 2, 2, 2, 1, 2, 3, 2, 3, 3, 2, 2, 2, 2, 1, 2, 2, 3, 2, 2, 2, 3,\n",
       "       2, 1, 2, 2, 1, 3, 3, 2, 1, 3, 2, 2, 2, 1, 2, 2, 2, 2, 2, 3, 2, 1,\n",
       "       2, 2, 1, 2, 2, 2, 3, 2, 2, 2, 2, 2, 2, 2, 3, 1, 3, 2, 1, 2, 2, 1,\n",
       "       2, 3, 1, 2, 2, 2, 2, 2, 2, 2, 2, 1, 2, 2, 2, 2, 2, 2, 1, 1, 2, 2,\n",
       "       3, 2, 2, 2, 1, 2, 1, 2, 2, 2, 2, 1, 2, 1, 2, 1, 1, 2, 2, 3, 2, 2,\n",
       "       2, 2, 2, 2, 2, 2, 2, 2, 2, 3, 3, 2, 2, 2, 2, 2, 2, 1, 3, 2, 1, 2,\n",
       "       2, 2, 2, 2, 2, 2, 2, 1, 2, 1, 2, 2, 2, 2, 2, 1, 2, 2, 3, 2, 1, 2,\n",
       "       2, 2, 3, 2, 1, 0, 3, 2, 2, 2, 2, 2, 1, 1, 2, 2, 1, 2, 2, 2, 2, 2,\n",
       "       3, 1, 2, 1, 1, 2, 2, 2, 2, 2, 3, 2, 2, 2, 2, 2, 1, 2, 2, 2, 2, 1,\n",
       "       2, 2, 1, 0, 2, 2, 3, 0, 2, 2, 2, 2, 2, 2, 2, 3, 2, 3, 2, 1, 2, 2,\n",
       "       2, 2, 3, 2, 3, 2, 2, 1, 2, 3, 1, 3, 2, 2, 2, 2, 1, 0, 0, 2, 2, 2,\n",
       "       1, 2, 2, 2, 2, 3, 2, 3, 2, 3, 0, 0, 2, 2, 2, 1, 2, 3, 2, 2, 2, 1,\n",
       "       2, 2, 1, 2, 2, 0, 3, 2, 2, 3, 0, 2, 2, 0, 2, 3, 3, 0, 2, 2, 2, 1,\n",
       "       2, 2, 2, 2, 2, 2, 1, 2, 2, 2, 2, 2, 2, 3, 0, 2, 1, 1, 3, 3, 3, 2,\n",
       "       3, 2, 2, 2, 3, 1, 2, 3, 1, 2, 2, 0, 2, 3, 2, 2, 3, 1, 2, 2, 2, 3,\n",
       "       3, 2, 1, 2, 2, 3, 2, 1, 1, 2, 2])"
      ]
     },
     "execution_count": 408,
     "metadata": {},
     "output_type": "execute_result"
    }
   ],
   "source": [
    "le = LabelEncoder()\n",
    "le.fit_transform(df['Title'])"
   ]
  },
  {
   "cell_type": "code",
   "execution_count": 424,
   "metadata": {},
   "outputs": [
    {
     "data": {
      "text/plain": [
       "0      22.0\n",
       "1      38.0\n",
       "2      26.0\n",
       "3      35.0\n",
       "4      35.0\n",
       "       ... \n",
       "886    27.0\n",
       "887    19.0\n",
       "888     NaN\n",
       "889    26.0\n",
       "890    32.0\n",
       "Name: Age, Length: 891, dtype: float64"
      ]
     },
     "execution_count": 424,
     "metadata": {},
     "output_type": "execute_result"
    }
   ],
   "source": [
    "_df = load_dataset()[0]\n",
    "_df['Age']"
   ]
  },
  {
   "cell_type": "code",
   "execution_count": 433,
   "metadata": {},
   "outputs": [
    {
     "ename": "AttributeError",
     "evalue": "'DataFrame' object has no attribute 'median_high'",
     "output_type": "error",
     "traceback": [
      "\u001b[1;31m---------------------------------------------------------------------------\u001b[0m",
      "\u001b[1;31mAttributeError\u001b[0m                            Traceback (most recent call last)",
      "\u001b[1;32m/var/folders/9g/jfh6hq0j745djlxzs554s73h0000gn/T/ipykernel_30551/498147988.py\u001b[0m in \u001b[0;36m<module>\u001b[1;34m\u001b[0m\n\u001b[1;32m----> 1\u001b[1;33m \u001b[0m_df\u001b[0m\u001b[1;33m.\u001b[0m\u001b[0mmedian_high\u001b[0m\u001b[1;33m\u001b[0m\u001b[1;33m\u001b[0m\u001b[0m\n\u001b[0m",
      "\u001b[1;32m/opt/homebrew/Caskroom/miniforge/base/envs/pytest/lib/python3.10/site-packages/pandas/core/generic.py\u001b[0m in \u001b[0;36m__getattr__\u001b[1;34m(self, name)\u001b[0m\n\u001b[0;32m   5485\u001b[0m         ):\n\u001b[0;32m   5486\u001b[0m             \u001b[1;32mreturn\u001b[0m \u001b[0mself\u001b[0m\u001b[1;33m[\u001b[0m\u001b[0mname\u001b[0m\u001b[1;33m]\u001b[0m\u001b[1;33m\u001b[0m\u001b[1;33m\u001b[0m\u001b[0m\n\u001b[1;32m-> 5487\u001b[1;33m         \u001b[1;32mreturn\u001b[0m \u001b[0mobject\u001b[0m\u001b[1;33m.\u001b[0m\u001b[0m__getattribute__\u001b[0m\u001b[1;33m(\u001b[0m\u001b[0mself\u001b[0m\u001b[1;33m,\u001b[0m \u001b[0mname\u001b[0m\u001b[1;33m)\u001b[0m\u001b[1;33m\u001b[0m\u001b[1;33m\u001b[0m\u001b[0m\n\u001b[0m\u001b[0;32m   5488\u001b[0m \u001b[1;33m\u001b[0m\u001b[0m\n\u001b[0;32m   5489\u001b[0m     \u001b[1;32mdef\u001b[0m \u001b[0m__setattr__\u001b[0m\u001b[1;33m(\u001b[0m\u001b[0mself\u001b[0m\u001b[1;33m,\u001b[0m \u001b[0mname\u001b[0m\u001b[1;33m:\u001b[0m \u001b[0mstr\u001b[0m\u001b[1;33m,\u001b[0m \u001b[0mvalue\u001b[0m\u001b[1;33m)\u001b[0m \u001b[1;33m->\u001b[0m \u001b[1;32mNone\u001b[0m\u001b[1;33m:\u001b[0m\u001b[1;33m\u001b[0m\u001b[1;33m\u001b[0m\u001b[0m\n",
      "\u001b[1;31mAttributeError\u001b[0m: 'DataFrame' object has no attribute 'median_high'"
     ]
    }
   ],
   "source": [
    "_df."
   ]
  },
  {
   "cell_type": "code",
   "execution_count": 436,
   "metadata": {},
   "outputs": [],
   "source": [
    "num_transformer = ColumnTransformer(transformers=[('num', RobustScaler(), NUM_VARS)])\n",
    "\n",
    "pipeline = Pipeline([('num_transformer', num_transformer),\n",
    "                        ('clf', LogisticRegression(solver='lbfgs', max_iter=1000))])"
   ]
  },
  {
   "cell_type": "code",
   "execution_count": 468,
   "metadata": {},
   "outputs": [],
   "source": [
    "_df = preprocess(load_dataset()[0])"
   ]
  },
  {
   "cell_type": "code",
   "execution_count": 497,
   "metadata": {},
   "outputs": [],
   "source": [
    "from sklearn.ensemble import RandomForestClassifier\n",
    "\n",
    "df_train, df_test = list(map(preprocess, load_dataset()))\n",
    "X_train, X_test, y_train, y_test = train_test_split(df_train.drop(columns=['Survived']),\n",
    "                                                    df_train['Survived'],\n",
    "                                                    test_size=0.2, random_state=42)\n",
    "model = RandomForestClassifier(oob_score=True)\n",
    "model.fit(X_train, y_train)\n",
    "score = model.score(X_test, y_test)"
   ]
  },
  {
   "cell_type": "code",
   "execution_count": 481,
   "metadata": {},
   "outputs": [],
   "source": []
  },
  {
   "cell_type": "code",
   "execution_count": 498,
   "metadata": {},
   "outputs": [],
   "source": [
    "df_fi = pd.DataFrame(model.feature_importances_, index=X_train.columns, columns=['importance']).sort_values('importance', ascending=False)"
   ]
  },
  {
   "cell_type": "code",
   "execution_count": 499,
   "metadata": {},
   "outputs": [
    {
     "data": {
      "text/html": [
       "<div>\n",
       "<style scoped>\n",
       "    .dataframe tbody tr th:only-of-type {\n",
       "        vertical-align: middle;\n",
       "    }\n",
       "\n",
       "    .dataframe tbody tr th {\n",
       "        vertical-align: top;\n",
       "    }\n",
       "\n",
       "    .dataframe thead th {\n",
       "        text-align: right;\n",
       "    }\n",
       "</style>\n",
       "<table border=\"1\" class=\"dataframe\">\n",
       "  <thead>\n",
       "    <tr style=\"text-align: right;\">\n",
       "      <th></th>\n",
       "      <th>importance</th>\n",
       "    </tr>\n",
       "  </thead>\n",
       "  <tbody>\n",
       "    <tr>\n",
       "      <th>Fare</th>\n",
       "      <td>0.213634</td>\n",
       "    </tr>\n",
       "    <tr>\n",
       "      <th>Age</th>\n",
       "      <td>0.211730</td>\n",
       "    </tr>\n",
       "    <tr>\n",
       "      <th>Sex</th>\n",
       "      <td>0.190828</td>\n",
       "    </tr>\n",
       "    <tr>\n",
       "      <th>Title</th>\n",
       "      <td>0.110048</td>\n",
       "    </tr>\n",
       "    <tr>\n",
       "      <th>Pclass</th>\n",
       "      <td>0.067821</td>\n",
       "    </tr>\n",
       "    <tr>\n",
       "      <th>Cabin</th>\n",
       "      <td>0.067338</td>\n",
       "    </tr>\n",
       "    <tr>\n",
       "      <th>Relatives</th>\n",
       "      <td>0.044876</td>\n",
       "    </tr>\n",
       "    <tr>\n",
       "      <th>Embarked</th>\n",
       "      <td>0.032633</td>\n",
       "    </tr>\n",
       "    <tr>\n",
       "      <th>SibSp</th>\n",
       "      <td>0.031162</td>\n",
       "    </tr>\n",
       "    <tr>\n",
       "      <th>Parch</th>\n",
       "      <td>0.020064</td>\n",
       "    </tr>\n",
       "    <tr>\n",
       "      <th>Alone</th>\n",
       "      <td>0.009866</td>\n",
       "    </tr>\n",
       "  </tbody>\n",
       "</table>\n",
       "</div>"
      ],
      "text/plain": [
       "           importance\n",
       "Fare         0.213634\n",
       "Age          0.211730\n",
       "Sex          0.190828\n",
       "Title        0.110048\n",
       "Pclass       0.067821\n",
       "Cabin        0.067338\n",
       "Relatives    0.044876\n",
       "Embarked     0.032633\n",
       "SibSp        0.031162\n",
       "Parch        0.020064\n",
       "Alone        0.009866"
      ]
     },
     "execution_count": 499,
     "metadata": {},
     "output_type": "execute_result"
    }
   ],
   "source": [
    "df_fi"
   ]
  },
  {
   "cell_type": "code",
   "execution_count": 454,
   "metadata": {},
   "outputs": [
    {
     "data": {
      "text/plain": [
       "0.6871508379888268"
      ]
     },
     "execution_count": 454,
     "metadata": {},
     "output_type": "execute_result"
    }
   ],
   "source": [
    "pipeline.fit(X_train, y_train)\n",
    "X_train, X_test, y_train, y_test = train_test_split(_df.drop(columns=['Survived']), _df['Survived'], test_size=0.2, random_state=42)\n",
    "pipeline.score(X_test, y_test)"
   ]
  },
  {
   "cell_type": "code",
   "execution_count": 467,
   "metadata": {},
   "outputs": [
    {
     "name": "stdout",
     "output_type": "stream",
     "text": [
      "   Survived  Pclass  Sex        Age  SibSp  Parch     Fare  Cabin  Embarked  \\\n",
      "0         0       2    1  22.000000      1      0   7.2500      8         2   \n",
      "1         1       0    0  38.000000      1      0  71.2833      2         0   \n",
      "2         1       2    0  26.000000      0      0   7.9250      8         2   \n",
      "3         1       0    0  35.000000      1      0  53.1000      2         2   \n",
      "4         0       2    1  35.000000      0      0   8.0500      8         2   \n",
      "5         0       2    1  29.184492      0      0   8.4583      8         1   \n",
      "6         0       0    1  54.000000      0      0  51.8625      4         2   \n",
      "7         0       2    1   2.000000      3      1  21.0750      8         2   \n",
      "8         1       2    0  27.000000      0      2  11.1333      8         2   \n",
      "9         1       1    0  14.000000      1      0  30.0708      8         0   \n",
      "\n",
      "   Alone  Title  \n",
      "0      0      2  \n",
      "1      0      3  \n",
      "2      1      1  \n",
      "3      0      3  \n",
      "4      1      2  \n",
      "5      1      2  \n",
      "6      1      2  \n",
      "7      0      0  \n",
      "8      0      3  \n",
      "9      0      3  \n",
      "[0 0 0 0 0 1 0 0 0 0]\n"
     ]
    }
   ],
   "source": [
    "print(_df.iloc[:10])\n",
    "print(pipeline.predict(X_train.iloc[:10]))"
   ]
  },
  {
   "cell_type": "code",
   "execution_count": 504,
   "metadata": {},
   "outputs": [
    {
     "ename": "AttributeError",
     "evalue": "'RandomizedSearchCV' object has no attribute 'bestparams'",
     "output_type": "error",
     "traceback": [
      "\u001b[1;31m---------------------------------------------------------------------------\u001b[0m",
      "\u001b[1;31mAttributeError\u001b[0m                            Traceback (most recent call last)",
      "\u001b[1;32m/var/folders/9g/jfh6hq0j745djlxzs554s73h0000gn/T/ipykernel_30551/597747106.py\u001b[0m in \u001b[0;36m<module>\u001b[1;34m\u001b[0m\n\u001b[0;32m     11\u001b[0m \u001b[0mclf\u001b[0m \u001b[1;33m=\u001b[0m \u001b[0mRandomizedSearchCV\u001b[0m\u001b[1;33m(\u001b[0m\u001b[0mrf\u001b[0m\u001b[1;33m,\u001b[0m \u001b[0mparam_grid\u001b[0m\u001b[1;33m,\u001b[0m \u001b[0mn_jobs\u001b[0m\u001b[1;33m=\u001b[0m\u001b[1;33m-\u001b[0m\u001b[1;36m1\u001b[0m\u001b[1;33m)\u001b[0m\u001b[1;33m\u001b[0m\u001b[1;33m\u001b[0m\u001b[0m\n\u001b[0;32m     12\u001b[0m \u001b[0mclf\u001b[0m\u001b[1;33m.\u001b[0m\u001b[0mfit\u001b[0m\u001b[1;33m(\u001b[0m\u001b[0mX_train\u001b[0m\u001b[1;33m,\u001b[0m \u001b[0my_train\u001b[0m\u001b[1;33m)\u001b[0m\u001b[1;33m\u001b[0m\u001b[1;33m\u001b[0m\u001b[0m\n\u001b[1;32m---> 13\u001b[1;33m \u001b[0mclf\u001b[0m\u001b[1;33m.\u001b[0m\u001b[0mbestparams\u001b[0m\u001b[1;33m\u001b[0m\u001b[1;33m\u001b[0m\u001b[0m\n\u001b[0m",
      "\u001b[1;31mAttributeError\u001b[0m: 'RandomizedSearchCV' object has no attribute 'bestparams'"
     ]
    }
   ],
   "source": [
    "df_train, df_test = list(map(preprocess, load_dataset()))\n",
    "X_train, X_test, y_train, y_test = train_test_split(df_train.drop(columns=['Survived']),\n",
    "                                                    df_train['Survived'],\n",
    "                                                    test_size=0.2, random_state=42)\n",
    "\n",
    "param_grid = { \"criterion\" : [\"gini\", \"entropy\"], \"min_samples_leaf\" : [1, 5, 10, 25, 50, 70], \"min_samples_split\" : [2, 4, 10, 12, 16, 18, 25, 35], \"n_estimators\": [100, 400, 700, 1000, 1500]}\n",
    "\n",
    "from sklearn.model_selection import GridSearchCV, cross_val_score, RandomizedSearchCV\n",
    "\n",
    "rf = RandomForestClassifier(n_estimators=100, max_features='auto', oob_score=True, random_state=1, n_jobs=-1)\n",
    "clf = RandomizedSearchCV(rf, param_grid, n_jobs=-1)\n",
    "clf.fit(X_train, y_train)"
   ]
  },
  {
   "cell_type": "code",
   "execution_count": 520,
   "metadata": {},
   "outputs": [
    {
     "data": {
      "image/png": "[encoded data removed]",
      "text/plain": [
       "<Figure size 432x288 with 2 Axes>"
      ]
     },
     "metadata": {
      "needs_background": "light"
     },
     "output_type": "display_data"
    }
   ],
   "source": [
    "from sklearn.model_selection import cross_val_predict\n",
    "from sklearn.metrics import confusion_matrix\n",
    "df_train, df_test = list(map(preprocess, load_dataset()))\n",
    "X_train, X_test, y_train, y_test = train_test_split(df_train.drop(columns=['Survived']),\n",
    "                                                    df_train['Survived'],\n",
    "                                                    test_size=0.2, random_state=42)\n",
    "\n",
    "best_param = {'n_estimators': 400,\n",
    " 'min_samples_split': 16,\n",
    " 'min_samples_leaf': 1,\n",
    " 'criterion': 'gini'}\n",
    "rf = RandomForestClassifier(oob_score=True, **best_param)\n",
    "rf.fit(X_train, y_train)\n",
    "plot = plot_confusion_matrix(rf, X_test, y_test, cmap=plt.cm.Blues)"
   ]
  },
  {
   "cell_type": "code",
   "execution_count": 518,
   "metadata": {},
   "outputs": [
    {
     "name": "stdout",
     "output_type": "stream",
     "text": [
      "acc: 0.8324022346368715\n",
      "prec: 0.8055555555555556\n",
      "rec: 0.7837837837837838\n",
      "f1: 0.7945205479452055\n"
     ]
    }
   ],
   "source": [
    "from sklearn.metrics import accuracy_score, precision_score, recall_score, f1_score\n",
    "\n",
    "preds = rf.predict(X_test)\n",
    "print(f\"acc: {accuracy_score(y_test, preds)}\")\n",
    "print(f\"prec: {precision_score(y_test, preds)}\")\n",
    "print(f\"rec: {recall_score(y_test, preds)}\")\n",
    "print(f\"f1: {f1_score(y_test, preds)}\")"
   ]
  },
  {
   "cell_type": "code",
   "execution_count": 522,
   "metadata": {},
   "outputs": [
    {
     "data": {
      "image/png": "[encoded data removed]",
      "text/plain": [
       "<Figure size 1008x504 with 1 Axes>"
      ]
     },
     "metadata": {
      "needs_background": "light"
     },
     "output_type": "display_data"
    }
   ],
   "source": [
    "from sklearn.metrics import precision_recall_curve\n",
    "\n",
    "# getting the probabilities of our predictions\n",
    "y_scores = rf.predict_proba(X_train)\n",
    "y_scores = y_scores[:,1]\n",
    "\n",
    "precision, recall, threshold = precision_recall_curve(y_train, y_scores)\n",
    "def plot_precision_and_recall(precision, recall, threshold):\n",
    "    plt.plot(threshold, precision[:-1], \"r-\", label=\"precision\", linewidth=5)\n",
    "    plt.plot(threshold, recall[:-1], \"b\", label=\"recall\", linewidth=5)\n",
    "    plt.xlabel(\"threshold\", fontsize=19)\n",
    "    plt.legend(loc=\"upper right\", fontsize=19)\n",
    "    plt.ylim([0, 1])\n",
    "\n",
    "plt.figure(figsize=(14, 7))\n",
    "plot_precision_and_recall(precision, recall, threshold)\n",
    "plt.show()"
   ]
  },
  {
   "cell_type": "code",
   "execution_count": 523,
   "metadata": {},
   "outputs": [
    {
     "data": {
      "image/png": "[encoded data removed]",
      "text/plain": [
       "<Figure size 1008x504 with 1 Axes>"
      ]
     },
     "metadata": {
      "needs_background": "light"
     },
     "output_type": "display_data"
    }
   ],
   "source": [
    "from sklearn.metrics import roc_curve\n",
    "# compute true positive rate and false positive rate\n",
    "false_positive_rate, true_positive_rate, thresholds = roc_curve(y_train, y_scores)\n",
    "# plotting them against each other\n",
    "def plot_roc_curve(false_positive_rate, true_positive_rate, label=None):\n",
    "    plt.plot(false_positive_rate, true_positive_rate, linewidth=2, label=label)\n",
    "    plt.plot([0, 1], [0, 1], 'r', linewidth=4)\n",
    "    plt.axis([0, 1, 0, 1])\n",
    "    plt.xlabel('False Positive Rate (FPR)', fontsize=16)\n",
    "    plt.ylabel('True Positive Rate (TPR)', fontsize=16)\n",
    "\n",
    "plt.figure(figsize=(14, 7))\n",
    "plot_roc_curve(false_positive_rate, true_positive_rate)\n",
    "plt.show()"
   ]
  },
  {
   "cell_type": "code",
   "execution_count": 524,
   "metadata": {},
   "outputs": [
    {
     "name": "stdout",
     "output_type": "stream",
     "text": [
      "ROC-AUC-Score: 0.9557533279548206\n"
     ]
    }
   ],
   "source": [
    "from sklearn.metrics import roc_auc_score\n",
    "r_a_score = roc_auc_score(y_train, y_scores)\n",
    "print(\"ROC-AUC-Score:\", r_a_score)"
   ]
  },
  {
   "cell_type": "code",
   "execution_count": 528,
   "metadata": {},
   "outputs": [],
   "source": [
    "df = preprocess(load_dataset()[0])"
   ]
  },
  {
   "cell_type": "code",
   "execution_count": 534,
   "metadata": {},
   "outputs": [
    {
     "data": {
      "text/html": [
       "<div>\n",
       "<style scoped>\n",
       "    .dataframe tbody tr th:only-of-type {\n",
       "        vertical-align: middle;\n",
       "    }\n",
       "\n",
       "    .dataframe tbody tr th {\n",
       "        vertical-align: top;\n",
       "    }\n",
       "\n",
       "    .dataframe thead th {\n",
       "        text-align: right;\n",
       "    }\n",
       "</style>\n",
       "<table border=\"1\" class=\"dataframe\">\n",
       "  <thead>\n",
       "    <tr style=\"text-align: right;\">\n",
       "      <th></th>\n",
       "      <th>index</th>\n",
       "      <th>Survived</th>\n",
       "      <th>Pclass</th>\n",
       "      <th>Sex</th>\n",
       "      <th>Age</th>\n",
       "      <th>SibSp</th>\n",
       "      <th>Parch</th>\n",
       "      <th>Fare</th>\n",
       "      <th>Cabin</th>\n",
       "      <th>Embarked</th>\n",
       "      <th>Relatives</th>\n",
       "      <th>Alone</th>\n",
       "      <th>Title</th>\n",
       "    </tr>\n",
       "  </thead>\n",
       "  <tbody>\n",
       "    <tr>\n",
       "      <th>0</th>\n",
       "      <td>0</td>\n",
       "      <td>0</td>\n",
       "      <td>2</td>\n",
       "      <td>1</td>\n",
       "      <td>22.000000</td>\n",
       "      <td>1</td>\n",
       "      <td>0</td>\n",
       "      <td>7.2500</td>\n",
       "      <td>8</td>\n",
       "      <td>2</td>\n",
       "      <td>1</td>\n",
       "      <td>0</td>\n",
       "      <td>2</td>\n",
       "    </tr>\n",
       "    <tr>\n",
       "      <th>1</th>\n",
       "      <td>1</td>\n",
       "      <td>1</td>\n",
       "      <td>0</td>\n",
       "      <td>0</td>\n",
       "      <td>38.000000</td>\n",
       "      <td>1</td>\n",
       "      <td>0</td>\n",
       "      <td>71.2833</td>\n",
       "      <td>2</td>\n",
       "      <td>0</td>\n",
       "      <td>1</td>\n",
       "      <td>0</td>\n",
       "      <td>3</td>\n",
       "    </tr>\n",
       "    <tr>\n",
       "      <th>2</th>\n",
       "      <td>2</td>\n",
       "      <td>1</td>\n",
       "      <td>2</td>\n",
       "      <td>0</td>\n",
       "      <td>26.000000</td>\n",
       "      <td>0</td>\n",
       "      <td>0</td>\n",
       "      <td>7.9250</td>\n",
       "      <td>8</td>\n",
       "      <td>2</td>\n",
       "      <td>0</td>\n",
       "      <td>1</td>\n",
       "      <td>1</td>\n",
       "    </tr>\n",
       "    <tr>\n",
       "      <th>3</th>\n",
       "      <td>3</td>\n",
       "      <td>1</td>\n",
       "      <td>0</td>\n",
       "      <td>0</td>\n",
       "      <td>35.000000</td>\n",
       "      <td>1</td>\n",
       "      <td>0</td>\n",
       "      <td>53.1000</td>\n",
       "      <td>2</td>\n",
       "      <td>2</td>\n",
       "      <td>1</td>\n",
       "      <td>0</td>\n",
       "      <td>3</td>\n",
       "    </tr>\n",
       "    <tr>\n",
       "      <th>4</th>\n",
       "      <td>4</td>\n",
       "      <td>0</td>\n",
       "      <td>2</td>\n",
       "      <td>1</td>\n",
       "      <td>35.000000</td>\n",
       "      <td>0</td>\n",
       "      <td>0</td>\n",
       "      <td>8.0500</td>\n",
       "      <td>8</td>\n",
       "      <td>2</td>\n",
       "      <td>0</td>\n",
       "      <td>1</td>\n",
       "      <td>2</td>\n",
       "    </tr>\n",
       "    <tr>\n",
       "      <th>...</th>\n",
       "      <td>...</td>\n",
       "      <td>...</td>\n",
       "      <td>...</td>\n",
       "      <td>...</td>\n",
       "      <td>...</td>\n",
       "      <td>...</td>\n",
       "      <td>...</td>\n",
       "      <td>...</td>\n",
       "      <td>...</td>\n",
       "      <td>...</td>\n",
       "      <td>...</td>\n",
       "      <td>...</td>\n",
       "      <td>...</td>\n",
       "    </tr>\n",
       "    <tr>\n",
       "      <th>886</th>\n",
       "      <td>886</td>\n",
       "      <td>0</td>\n",
       "      <td>1</td>\n",
       "      <td>1</td>\n",
       "      <td>27.000000</td>\n",
       "      <td>0</td>\n",
       "      <td>0</td>\n",
       "      <td>13.0000</td>\n",
       "      <td>8</td>\n",
       "      <td>2</td>\n",
       "      <td>0</td>\n",
       "      <td>1</td>\n",
       "      <td>2</td>\n",
       "    </tr>\n",
       "    <tr>\n",
       "      <th>887</th>\n",
       "      <td>887</td>\n",
       "      <td>1</td>\n",
       "      <td>0</td>\n",
       "      <td>0</td>\n",
       "      <td>19.000000</td>\n",
       "      <td>0</td>\n",
       "      <td>0</td>\n",
       "      <td>30.0000</td>\n",
       "      <td>1</td>\n",
       "      <td>2</td>\n",
       "      <td>0</td>\n",
       "      <td>1</td>\n",
       "      <td>1</td>\n",
       "    </tr>\n",
       "    <tr>\n",
       "      <th>888</th>\n",
       "      <td>888</td>\n",
       "      <td>0</td>\n",
       "      <td>2</td>\n",
       "      <td>0</td>\n",
       "      <td>20.671875</td>\n",
       "      <td>1</td>\n",
       "      <td>2</td>\n",
       "      <td>23.4500</td>\n",
       "      <td>8</td>\n",
       "      <td>2</td>\n",
       "      <td>3</td>\n",
       "      <td>0</td>\n",
       "      <td>1</td>\n",
       "    </tr>\n",
       "    <tr>\n",
       "      <th>889</th>\n",
       "      <td>889</td>\n",
       "      <td>1</td>\n",
       "      <td>0</td>\n",
       "      <td>1</td>\n",
       "      <td>26.000000</td>\n",
       "      <td>0</td>\n",
       "      <td>0</td>\n",
       "      <td>30.0000</td>\n",
       "      <td>2</td>\n",
       "      <td>0</td>\n",
       "      <td>0</td>\n",
       "      <td>1</td>\n",
       "      <td>2</td>\n",
       "    </tr>\n",
       "    <tr>\n",
       "      <th>890</th>\n",
       "      <td>890</td>\n",
       "      <td>0</td>\n",
       "      <td>2</td>\n",
       "      <td>1</td>\n",
       "      <td>32.000000</td>\n",
       "      <td>0</td>\n",
       "      <td>0</td>\n",
       "      <td>7.7500</td>\n",
       "      <td>8</td>\n",
       "      <td>1</td>\n",
       "      <td>0</td>\n",
       "      <td>1</td>\n",
       "      <td>2</td>\n",
       "    </tr>\n",
       "  </tbody>\n",
       "</table>\n",
       "<p>891 rows × 13 columns</p>\n",
       "</div>"
      ],
      "text/plain": [
       "     index  Survived  Pclass  Sex        Age  SibSp  Parch     Fare  Cabin  \\\n",
       "0        0         0       2    1  22.000000      1      0   7.2500      8   \n",
       "1        1         1       0    0  38.000000      1      0  71.2833      2   \n",
       "2        2         1       2    0  26.000000      0      0   7.9250      8   \n",
       "3        3         1       0    0  35.000000      1      0  53.1000      2   \n",
       "4        4         0       2    1  35.000000      0      0   8.0500      8   \n",
       "..     ...       ...     ...  ...        ...    ...    ...      ...    ...   \n",
       "886    886         0       1    1  27.000000      0      0  13.0000      8   \n",
       "887    887         1       0    0  19.000000      0      0  30.0000      1   \n",
       "888    888         0       2    0  20.671875      1      2  23.4500      8   \n",
       "889    889         1       0    1  26.000000      0      0  30.0000      2   \n",
       "890    890         0       2    1  32.000000      0      0   7.7500      8   \n",
       "\n",
       "     Embarked  Relatives  Alone  Title  \n",
       "0           2          1      0      2  \n",
       "1           0          1      0      3  \n",
       "2           2          0      1      1  \n",
       "3           2          1      0      3  \n",
       "4           2          0      1      2  \n",
       "..        ...        ...    ...    ...  \n",
       "886         2          0      1      2  \n",
       "887         2          0      1      1  \n",
       "888         2          3      0      1  \n",
       "889         0          0      1      2  \n",
       "890         1          0      1      2  \n",
       "\n",
       "[891 rows x 13 columns]"
      ]
     },
     "execution_count": 534,
     "metadata": {},
     "output_type": "execute_result"
    }
   ],
   "source": []
  }
 ],
 "metadata": {
  "kernelspec": {
   "display_name": "Python 3 (ipykernel)",
   "language": "python",
   "name": "python3"
  },
  "language_info": {
   "codemirror_mode": {
    "name": "ipython",
    "version": 3
   },
   "file_extension": ".py",
   "mimetype": "text/x-python",
   "name": "python",
   "nbconvert_exporter": "python",
   "pygments_lexer": "ipython3",
   "version": "3.10.2"
  }
 },
 "nbformat": 4,
 "nbformat_minor": 4
}
